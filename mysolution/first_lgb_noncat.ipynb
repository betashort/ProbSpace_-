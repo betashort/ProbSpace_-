{
 "cells": [
  {
   "cell_type": "code",
   "execution_count": 1,
   "metadata": {},
   "outputs": [
    {
     "name": "stderr",
     "output_type": "stream",
     "text": [
      "/Users/betashort/opt/anaconda3/envs/default/lib/python3.7/site-packages/lightgbm/__init__.py:46: UserWarning: Starting from version 2.2.1, the library file in distribution wheels for macOS is built by the Apple Clang (Xcode_8.3.3) compiler.\n",
      "This means that in case of installing LightGBM from PyPI via the ``pip install lightgbm`` command, you don't need to install the gcc compiler anymore.\n",
      "Instead of that, you need to install the OpenMP library, which is required for running LightGBM on the system with the Apple Clang compiler.\n",
      "You can install the OpenMP library by the following command: ``brew install libomp``.\n",
      "  \"You can install the OpenMP library by the following command: ``brew install libomp``.\", UserWarning)\n"
     ]
    }
   ],
   "source": [
    "import os\n",
    "import platform \n",
    "import gc\n",
    "\n",
    "import re\n",
    "import numpy as np\n",
    "import pandas as pd\n",
    "\n",
    "pd.options.display.max_columns = None\n",
    "pd.options.display.max_rows = None\n",
    "\n",
    "\n",
    "import matplotlib.pyplot as plt\n",
    "%matplotlib inline\n",
    "\n",
    "import seaborn as sns\n",
    "\n",
    "from sklearn.preprocessing import LabelEncoder\n",
    "from sklearn.model_selection import KFold, StratifiedKFold\n",
    "from sklearn.metrics import mean_squared_error, mean_absolute_error\n",
    "\n",
    "import lightgbm as lgb\n",
    "\n",
    "import warnings \n",
    "warnings.filterwarnings('ignore')"
   ]
  },
  {
   "cell_type": "code",
   "execution_count": 2,
   "metadata": {},
   "outputs": [
    {
     "name": "stdout",
     "output_type": "stream",
     "text": [
      "Darwin\n"
     ]
    }
   ],
   "source": [
    "print(platform.system())\n",
    "if platform.system() == 'Darwin':\n",
    "    path = \"/Users/betashort/Google Drive/Prediction_Salary/\"\n",
    "elif platform.system() == 'Windows':\n",
    "    path = \"C://Users/ail11208/Google ドライブ/SIGNATE_mynavi2019/\""
   ]
  },
  {
   "cell_type": "markdown",
   "metadata": {},
   "source": [
    "# input"
   ]
  },
  {
   "cell_type": "code",
   "execution_count": 3,
   "metadata": {},
   "outputs": [],
   "source": [
    "X = pd.read_csv('input/train_data.csv')\n",
    "X_test = pd.read_csv('input/test_data.csv')\n",
    "test_id = X_test['id']"
   ]
  },
  {
   "cell_type": "code",
   "execution_count": 4,
   "metadata": {},
   "outputs": [],
   "source": [
    "y = X['salary']\n",
    "X = X.drop(['salary', 'id'], axis=1)\n",
    "X_test = X_test.drop(['id'], axis=1)"
   ]
  },
  {
   "cell_type": "markdown",
   "metadata": {},
   "source": [
    "# preprocessing"
   ]
  },
  {
   "cell_type": "markdown",
   "metadata": {},
   "source": [
    "## 66歳以上を削除"
   ]
  },
  {
   "cell_type": "code",
   "execution_count": 5,
   "metadata": {},
   "outputs": [],
   "source": [
    "drop_rows = X[X['age'] >= 66].index.tolist()\n",
    "X = X.drop(drop_rows)\n",
    "y = y.drop(drop_rows)"
   ]
  },
  {
   "cell_type": "code",
   "execution_count": null,
   "metadata": {},
   "outputs": [],
   "source": []
  },
  {
   "cell_type": "markdown",
   "metadata": {},
   "source": [
    "# Feature Engineering"
   ]
  },
  {
   "cell_type": "code",
   "execution_count": 6,
   "metadata": {},
   "outputs": [],
   "source": [
    "def create_feature(df):\n",
    "    #position-age\n",
    "    df['MA'] = df['age'].apply(lambda x: 1 if (x >= 26) else 0)\n",
    "    df['GM'] =  df['age'].apply(lambda x: 1 if (x >= 31) else 0)\n",
    "    df['not_noname'] = df['age'].apply(lambda x: 1 if (x <= 31) else 0)\n",
    "    \n",
    "    df['position_age'] = 0\n",
    "    df['position_age'][(df['age'] >=18) & (df['age'] <=25)] = 0\n",
    "    df['position_age'][(df['age'] >=26) & (df['age'] <=31)] = 1\n",
    "    df['position_age'][(df['age'] >=32) & (df['age'] <=36)] = 2\n",
    "    df['position_age'][(df['age'] >=37)& (df['age'] <=58)] = 3\n",
    "    df['position_age'][(df['age'] >=59)] = 4\n",
    "    return df"
   ]
  },
  {
   "cell_type": "code",
   "execution_count": 7,
   "metadata": {},
   "outputs": [],
   "source": [
    "X = create_feature(X)\n",
    "X_test = create_feature(X_test)"
   ]
  },
  {
   "cell_type": "markdown",
   "metadata": {},
   "source": [
    "# Labeling"
   ]
  },
  {
   "cell_type": "code",
   "execution_count": 8,
   "metadata": {},
   "outputs": [],
   "source": [
    "def labeling(X, X_test, y):\n",
    "    col_category = []\n",
    "    for i in X.columns:\n",
    "        if X[i].dtype == 'object':\n",
    "            \n",
    "            # ======== ラベルエンコーディング ==========\n",
    "            le = LabelEncoder()\n",
    "            X[f'{i}_label'] = le.fit_transform(X[i])\n",
    "            X_test[f'{i}_label'] = le.transform(X_test[i])\n",
    "            \n",
    "            col_category.append(f'{i}_label')\n",
    "            \n",
    "            \n",
    "            # ========= ランキング ==============\n",
    "            maps = pd.concat([X, np.exp(y)], axis=1).groupby(i)['salary'].mean().sort_values(ascending=False).index\n",
    "            maps = pd.DataFrame({i: maps, 'rank': np.linspace(0, maps.shape[0]-1, maps.shape[0])})\n",
    "            maps = dict(maps.to_dict(orient='split')['data'])\n",
    "            X[f'{i}_rank'] = X[i].map(maps)\n",
    "            X_test[f'{i}_rank'] = X_test[i].map(maps)\n",
    "            \n",
    "            col_category.append(f'{i}_rank')\n",
    "            \n",
    "            '''\n",
    "            # ===== targeting =======\n",
    "            data_tmp = pd.DataFrame({i:X[i], 'target':y})\n",
    "            target_mean = data_tmp.groupby(i)['target'].mean()\n",
    "            \n",
    "            X_test[f'{i}_target'] = X_test[i].map(target_mean)\n",
    "            #X_test[f'{c}_target_log'] = np.log(X_test[c].map(target_mean))\n",
    "            \n",
    "            tmp = np.repeat(np.nan, X.shape[0])\n",
    "            \n",
    "            kf = KFold(n_splits=4, shuffle=True, random_state=72)\n",
    "            \n",
    "            for idx_1, idx_2 in kf.split(X):\n",
    "                target_mean = data_tmp.iloc[idx_1].groupby(i)['target'].mean()\n",
    "                tmp[idx_2] = X[i].iloc[idx_2].map(target_mean)\n",
    "                X[f'{i}_target'] = tmp\n",
    "                #X[f'{c}_target_log'] = np.log(tmp)\n",
    "            \n",
    "            col_category.append(f'{i}_target')\n",
    "            #new_col_category.append(f'{c}_target_log')\n",
    "            '''\n",
    "            # ===== 元のラベルの削除 =====\n",
    "            X = X.drop(i, axis=1)\n",
    "            X_test = X_test.drop(i, axis=1)\n",
    "            \n",
    "    return X, X_test, col_category"
   ]
  },
  {
   "cell_type": "code",
   "execution_count": 9,
   "metadata": {},
   "outputs": [],
   "source": [
    "X, X_test, col_category = labeling(X, X_test, y)"
   ]
  },
  {
   "cell_type": "code",
   "execution_count": 10,
   "metadata": {},
   "outputs": [
    {
     "name": "stdout",
     "output_type": "stream",
     "text": [
      "X.shape (20997, 16) \n",
      "X_test.shape (9000, 16)\n"
     ]
    }
   ],
   "source": [
    "print('X.shape', X.shape,\n",
    "      '\\nX_test.shape', X_test.shape,\n",
    "     )"
   ]
  },
  {
   "cell_type": "code",
   "execution_count": 11,
   "metadata": {},
   "outputs": [],
   "source": [
    "y = np.log(y)"
   ]
  },
  {
   "cell_type": "markdown",
   "metadata": {},
   "source": [
    "# LightGBM"
   ]
  },
  {
   "cell_type": "code",
   "execution_count": 12,
   "metadata": {},
   "outputs": [],
   "source": [
    "params = {\n",
    "    'objective': 'fair',\n",
    "    'metric': 'fair',\n",
    "    'learning_rate': 0.01,\n",
    "    'max_depth': -1,\n",
    "    'num_leaves': 255,\n",
    "    'max_bin': 255,\n",
    "    'colsample_bytree': 0.8,\n",
    "    'subsample': 0.8,\n",
    "    'nthread': -1,\n",
    "    'bagging_freq': 1,\n",
    "    'verbose': -1,\n",
    "    'seed': 1,\n",
    "}"
   ]
  },
  {
   "cell_type": "code",
   "execution_count": 13,
   "metadata": {},
   "outputs": [],
   "source": [
    "def lightgbms(X, X_test, y, params, random=0):\n",
    "    \n",
    "    NFOLDS = 5\n",
    "    \n",
    "    folds = KFold(n_splits=NFOLDS, random_state=random, shuffle=True)\n",
    "\n",
    "    preds = pd.DataFrame()\n",
    "    train_preds = pd.DataFrame()\n",
    "\n",
    "    columns = X.columns\n",
    "    splits = folds.split(X, y)\n",
    "\n",
    "    y_preds = np.zeros(X_test.shape[0])\n",
    "    y_oof = np.zeros(X.shape[0])\n",
    "\n",
    "    score = 0\n",
    "    scores = []\n",
    "\n",
    "    feature_importances = pd.DataFrame()\n",
    "    feature_importances['feature'] = columns\n",
    "\n",
    "    for fold_n, (train_index, val_index) in enumerate(splits):\n",
    "        # split train, Valid\n",
    "        X_train, X_val = X[columns].iloc[train_index], X[columns].iloc[val_index]\n",
    "        y_train, y_val = y.iloc[train_index], y.iloc[val_index]\n",
    "\n",
    "        '''\n",
    "        LightGBM\n",
    "        '''\n",
    "        dtrain = lgb.Dataset(X_train, y_train)\n",
    "        dval = lgb.Dataset(X_val, y_val)\n",
    "\n",
    "        clf = lgb.train(params,\n",
    "                        dtrain,\n",
    "                        5000,\n",
    "                        valid_sets=[dtrain, dval],\n",
    "                        verbose_eval=1000,\n",
    "                        early_stopping_rounds=500)\n",
    "        \n",
    "        \n",
    "        feature_importances[f'fold_{fold_n + 1}'] = clf.feature_importance()\n",
    "        \n",
    "        '''\n",
    "        LightGBM\n",
    "        '''\n",
    "        # stack\n",
    "        y_pred_val = clf.predict(X_val)\n",
    "        y_oof[val_index] = y_pred_val\n",
    "    \n",
    "            \n",
    "        print(f\"Fold {fold_n + 1} | rmse: {mean_absolute_error(np.exp(y_val),np.exp( y_pred_val))}\")\n",
    "        \n",
    "        score += mean_absolute_error(np.exp(y_val),np.exp( y_pred_val)) / NFOLDS\n",
    "        scores.append(mean_absolute_error(np.exp(y_val),np.exp( y_pred_val)))\n",
    "\n",
    "        y_preds += clf.predict(X_test) / NFOLDS\n",
    "\n",
    "        train_preds[f\"Fold {fold_n + 1}\"] = clf.predict(X)\n",
    "\n",
    "        preds[f\"Fold {fold_n + 1}\"] = clf.predict(X_test)\n",
    "\n",
    "        del X_train, X_val, y_train, y_val\n",
    "        gc.collect()\n",
    "    print(f\"\\nMean RSME = {score}\")\n",
    "\n",
    "    return y_oof, y_preds, scores, feature_importances\n",
    "\n"
   ]
  },
  {
   "cell_type": "code",
   "execution_count": 14,
   "metadata": {
    "scrolled": true
   },
   "outputs": [
    {
     "name": "stdout",
     "output_type": "stream",
     "text": [
      "Training until validation scores don't improve for 500 rounds.\n",
      "[1000]\ttraining's fair: 0.0012781\tvalid_1's fair: 0.00377257\n",
      "Early stopping, best iteration is:\n",
      "[732]\ttraining's fair: 0.0015984\tvalid_1's fair: 0.00374671\n",
      "Fold 1 | rmse: 23.54465346973784\n",
      "Training until validation scores don't improve for 500 rounds.\n",
      "[1000]\ttraining's fair: 0.00127631\tvalid_1's fair: 0.00368226\n",
      "Early stopping, best iteration is:\n",
      "[872]\ttraining's fair: 0.00141733\tvalid_1's fair: 0.0036734\n",
      "Fold 2 | rmse: 23.120628544953576\n",
      "Training until validation scores don't improve for 500 rounds.\n",
      "[1000]\ttraining's fair: 0.00127642\tvalid_1's fair: 0.00378304\n",
      "Early stopping, best iteration is:\n",
      "[675]\ttraining's fair: 0.00168154\tvalid_1's fair: 0.00374811\n",
      "Fold 3 | rmse: 22.865016541116056\n",
      "Training until validation scores don't improve for 500 rounds.\n",
      "[1000]\ttraining's fair: 0.00128588\tvalid_1's fair: 0.00357865\n",
      "Early stopping, best iteration is:\n",
      "[765]\ttraining's fair: 0.00156322\tvalid_1's fair: 0.00355623\n",
      "Fold 4 | rmse: 22.75870690463022\n",
      "Training until validation scores don't improve for 500 rounds.\n",
      "[1000]\ttraining's fair: 0.00129602\tvalid_1's fair: 0.00359937\n",
      "Early stopping, best iteration is:\n",
      "[675]\ttraining's fair: 0.00170761\tvalid_1's fair: 0.0035801\n",
      "Fold 5 | rmse: 23.257409663236633\n",
      "\n",
      "Mean RSME = 23.109283024734864\n",
      "Training until validation scores don't improve for 500 rounds.\n",
      "[1000]\ttraining's fair: 0.00127589\tvalid_1's fair: 0.00376603\n",
      "Early stopping, best iteration is:\n",
      "[833]\ttraining's fair: 0.00146246\tvalid_1's fair: 0.00376177\n",
      "Fold 1 | rmse: 23.13061956892938\n",
      "Training until validation scores don't improve for 500 rounds.\n",
      "[1000]\ttraining's fair: 0.00128694\tvalid_1's fair: 0.00361204\n",
      "Early stopping, best iteration is:\n",
      "[647]\ttraining's fair: 0.00174225\tvalid_1's fair: 0.00358799\n",
      "Fold 2 | rmse: 22.731509341833604\n",
      "Training until validation scores don't improve for 500 rounds.\n",
      "[1000]\ttraining's fair: 0.00125123\tvalid_1's fair: 0.00390069\n",
      "Early stopping, best iteration is:\n",
      "[668]\ttraining's fair: 0.00166005\tvalid_1's fair: 0.00387932\n",
      "Fold 3 | rmse: 23.6990588369079\n",
      "Training until validation scores don't improve for 500 rounds.\n",
      "[1000]\ttraining's fair: 0.00131297\tvalid_1's fair: 0.00340532\n",
      "Early stopping, best iteration is:\n",
      "[803]\ttraining's fair: 0.00154359\tvalid_1's fair: 0.00339551\n",
      "Fold 4 | rmse: 22.697769572908406\n",
      "Training until validation scores don't improve for 500 rounds.\n",
      "[1000]\ttraining's fair: 0.00127916\tvalid_1's fair: 0.00367254\n",
      "Early stopping, best iteration is:\n",
      "[761]\ttraining's fair: 0.00156244\tvalid_1's fair: 0.0036633\n",
      "Fold 5 | rmse: 23.215892640344585\n",
      "\n",
      "Mean RSME = 23.094969992184772\n",
      "Training until validation scores don't improve for 500 rounds.\n",
      "[1000]\ttraining's fair: 0.00128447\tvalid_1's fair: 0.00372049\n",
      "Early stopping, best iteration is:\n",
      "[675]\ttraining's fair: 0.00169296\tvalid_1's fair: 0.0036985\n",
      "Fold 1 | rmse: 22.9206296306013\n",
      "Training until validation scores don't improve for 500 rounds.\n",
      "[1000]\ttraining's fair: 0.00127168\tvalid_1's fair: 0.00373308\n",
      "Early stopping, best iteration is:\n",
      "[675]\ttraining's fair: 0.00168121\tvalid_1's fair: 0.00370937\n",
      "Fold 2 | rmse: 23.12221019676451\n",
      "Training until validation scores don't improve for 500 rounds.\n",
      "[1000]\ttraining's fair: 0.0012783\tvalid_1's fair: 0.00367171\n",
      "Early stopping, best iteration is:\n",
      "[672]\ttraining's fair: 0.00169468\tvalid_1's fair: 0.00364994\n",
      "Fold 3 | rmse: 22.91879443763045\n",
      "Training until validation scores don't improve for 500 rounds.\n",
      "[1000]\ttraining's fair: 0.00127442\tvalid_1's fair: 0.00368886\n",
      "Early stopping, best iteration is:\n",
      "[694]\ttraining's fair: 0.00165184\tvalid_1's fair: 0.00367357\n",
      "Fold 4 | rmse: 23.33473812853695\n",
      "Training until validation scores don't improve for 500 rounds.\n",
      "[1000]\ttraining's fair: 0.00128671\tvalid_1's fair: 0.00363346\n",
      "Early stopping, best iteration is:\n",
      "[771]\ttraining's fair: 0.00155567\tvalid_1's fair: 0.00361813\n",
      "Fold 5 | rmse: 23.221385028498332\n",
      "\n",
      "Mean RSME = 23.103551484406307\n",
      "Training until validation scores don't improve for 500 rounds.\n",
      "[1000]\ttraining's fair: 0.00127855\tvalid_1's fair: 0.00364633\n",
      "Early stopping, best iteration is:\n",
      "[667]\ttraining's fair: 0.00170512\tvalid_1's fair: 0.00362009\n",
      "Fold 1 | rmse: 23.00628690201275\n",
      "Training until validation scores don't improve for 500 rounds.\n",
      "[1000]\ttraining's fair: 0.00128883\tvalid_1's fair: 0.0035177\n",
      "Early stopping, best iteration is:\n",
      "[735]\ttraining's fair: 0.00160832\tvalid_1's fair: 0.00350531\n",
      "Fold 2 | rmse: 22.919069670194045\n",
      "Training until validation scores don't improve for 500 rounds.\n",
      "[1000]\ttraining's fair: 0.00126505\tvalid_1's fair: 0.00385988\n",
      "Early stopping, best iteration is:\n",
      "[753]\ttraining's fair: 0.00155572\tvalid_1's fair: 0.00385212\n",
      "Fold 3 | rmse: 23.466199367336923\n",
      "Training until validation scores don't improve for 500 rounds.\n",
      "[1000]\ttraining's fair: 0.00127399\tvalid_1's fair: 0.00383906\n",
      "Early stopping, best iteration is:\n",
      "[732]\ttraining's fair: 0.00159074\tvalid_1's fair: 0.00381552\n",
      "Fold 4 | rmse: 23.705982596660633\n",
      "Training until validation scores don't improve for 500 rounds.\n",
      "[1000]\ttraining's fair: 0.00130048\tvalid_1's fair: 0.00354619\n",
      "Early stopping, best iteration is:\n",
      "[853]\ttraining's fair: 0.00146551\tvalid_1's fair: 0.003538\n",
      "Fold 5 | rmse: 22.461911442996765\n",
      "\n",
      "Mean RSME = 23.111889995840222\n",
      "Training until validation scores don't improve for 500 rounds.\n",
      "[1000]\ttraining's fair: 0.00126301\tvalid_1's fair: 0.00376498\n",
      "Early stopping, best iteration is:\n",
      "[675]\ttraining's fair: 0.00166751\tvalid_1's fair: 0.00373942\n",
      "Fold 1 | rmse: 23.481947384898962\n",
      "Training until validation scores don't improve for 500 rounds.\n",
      "[1000]\ttraining's fair: 0.00128281\tvalid_1's fair: 0.00367703\n",
      "Early stopping, best iteration is:\n",
      "[744]\ttraining's fair: 0.00159086\tvalid_1's fair: 0.00366394\n",
      "Fold 2 | rmse: 23.15762671410014\n",
      "Training until validation scores don't improve for 500 rounds.\n",
      "[1000]\ttraining's fair: 0.001301\tvalid_1's fair: 0.00356043\n",
      "Early stopping, best iteration is:\n",
      "[792]\ttraining's fair: 0.00154376\tvalid_1's fair: 0.00354567\n",
      "Fold 3 | rmse: 22.495419095300523\n",
      "Training until validation scores don't improve for 500 rounds.\n",
      "[1000]\ttraining's fair: 0.001298\tvalid_1's fair: 0.0036474\n",
      "Early stopping, best iteration is:\n",
      "[746]\ttraining's fair: 0.00160248\tvalid_1's fair: 0.0036389\n",
      "Fold 4 | rmse: 22.787544220998978\n",
      "Training until validation scores don't improve for 500 rounds.\n",
      "[1000]\ttraining's fair: 0.00126568\tvalid_1's fair: 0.00382047\n",
      "Early stopping, best iteration is:\n",
      "[752]\ttraining's fair: 0.00155715\tvalid_1's fair: 0.00380527\n",
      "Fold 5 | rmse: 23.561243169241123\n",
      "\n",
      "Mean RSME = 23.096756116907947\n",
      "CPU times: user 17min 59s, sys: 10.7 s, total: 18min 10s\n",
      "Wall time: 5min 35s\n"
     ]
    }
   ],
   "source": [
    "%%time\n",
    "## === Seed ===\n",
    "_, y_preds1, _, feature_importances = lightgbms(X, X_test, y, params, 1)\n",
    "_, y_preds2, _, _ = lightgbms(X, X_test, y, params, 2)\n",
    "_, y_preds3, _, _ = lightgbms(X, X_test, y, params, 3)\n",
    "_, y_preds4, _, _ = lightgbms(X, X_test, y, params, 4)\n",
    "_, y_preds5, _, _ = lightgbms(X, X_test, y, params, 5)"
   ]
  },
  {
   "cell_type": "code",
   "execution_count": 15,
   "metadata": {},
   "outputs": [],
   "source": [
    "pred_list = [y_preds1,\n",
    "             y_preds2,\n",
    "             y_preds3,\n",
    "             y_preds4,\n",
    "             y_preds5]\n",
    "pred = np.zeros(X_test.shape[0])\n",
    "for i in pred_list:\n",
    "    pred += np.exp(i).astype(int) / 5\n",
    "    \n",
    "pred = pred.astype(int)"
   ]
  },
  {
   "cell_type": "code",
   "execution_count": 16,
   "metadata": {},
   "outputs": [
    {
     "data": {
      "image/png": "[encoded data removed]",
      "text/plain": [
       "<Figure size 1152x1152 with 1 Axes>"
      ]
     },
     "metadata": {
      "needs_background": "light"
     },
     "output_type": "display_data"
    }
   ],
   "source": [
    "feature_importances['average'] = feature_importances[[f'fold_{fold_n + 1}' for fold_n in range(5)]].mean(axis=1)\n",
    "\n",
    "plt.figure(figsize=(16, 16))\n",
    "sns.barplot(data=feature_importances.sort_values(by='average', ascending=False).head(20), x='average', y='feature');\n",
    "plt.title('250 TOP feature importance over {} folds average'.format(10))\n",
    "#plt.savefig('TOP250_feature_importance.png')\n",
    "plt.show()"
   ]
  },
  {
   "cell_type": "code",
   "execution_count": 17,
   "metadata": {},
   "outputs": [],
   "source": [
    "sub = pd.DataFrame({'id': test_id, 'y': pred})"
   ]
  },
  {
   "cell_type": "code",
   "execution_count": 18,
   "metadata": {},
   "outputs": [
    {
     "data": {
      "text/html": [
       "<div>\n",
       "<style scoped>\n",
       "    .dataframe tbody tr th:only-of-type {\n",
       "        vertical-align: middle;\n",
       "    }\n",
       "\n",
       "    .dataframe tbody tr th {\n",
       "        vertical-align: top;\n",
       "    }\n",
       "\n",
       "    .dataframe thead th {\n",
       "        text-align: right;\n",
       "    }\n",
       "</style>\n",
       "<table border=\"1\" class=\"dataframe\">\n",
       "  <thead>\n",
       "    <tr style=\"text-align: right;\">\n",
       "      <th></th>\n",
       "      <th>id</th>\n",
       "      <th>y</th>\n",
       "    </tr>\n",
       "  </thead>\n",
       "  <tbody>\n",
       "    <tr>\n",
       "      <th>0</th>\n",
       "      <td>0</td>\n",
       "      <td>520</td>\n",
       "    </tr>\n",
       "    <tr>\n",
       "      <th>1</th>\n",
       "      <td>1</td>\n",
       "      <td>272</td>\n",
       "    </tr>\n",
       "    <tr>\n",
       "      <th>2</th>\n",
       "      <td>2</td>\n",
       "      <td>205</td>\n",
       "    </tr>\n",
       "    <tr>\n",
       "      <th>3</th>\n",
       "      <td>3</td>\n",
       "      <td>158</td>\n",
       "    </tr>\n",
       "    <tr>\n",
       "      <th>4</th>\n",
       "      <td>4</td>\n",
       "      <td>289</td>\n",
       "    </tr>\n",
       "  </tbody>\n",
       "</table>\n",
       "</div>"
      ],
      "text/plain": [
       "   id    y\n",
       "0   0  520\n",
       "1   1  272\n",
       "2   2  205\n",
       "3   3  158\n",
       "4   4  289"
      ]
     },
     "execution_count": 18,
     "metadata": {},
     "output_type": "execute_result"
    }
   ],
   "source": [
    "sub.head()"
   ]
  },
  {
   "cell_type": "code",
   "execution_count": 19,
   "metadata": {},
   "outputs": [],
   "source": [
    "sub.to_csv('sub_lgb_noncat.csv', index=None)"
   ]
  },
  {
   "cell_type": "code",
   "execution_count": null,
   "metadata": {},
   "outputs": [],
   "source": []
  }
 ],
 "metadata": {
  "kernelspec": {
   "display_name": "Python 3",
   "language": "python",
   "name": "python3"
  },
  "language_info": {
   "codemirror_mode": {
    "name": "ipython",
    "version": 3
   },
   "file_extension": ".py",
   "mimetype": "text/x-python",
   "name": "python",
   "nbconvert_exporter": "python",
   "pygments_lexer": "ipython3",
   "version": "3.7.5"
  }
 },
 "nbformat": 4,
 "nbformat_minor": 2
}
