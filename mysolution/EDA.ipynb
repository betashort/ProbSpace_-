{
 "cells": [
  {
   "cell_type": "markdown",
   "metadata": {},
   "source": [
    "# Prob　給与予測\n",
    "## 目的\n",
    "\n",
    "以下のデータから、その人物の給与を予測する\n",
    "1. position\n",
    "2. age\n",
    "3. area\n",
    "4. sex\n",
    "5. partner\n",
    "6. num_child\n",
    "7. education\n",
    "8. service_length\n",
    "9. study_time\n",
    "10. commute\n",
    "11. overtime"
   ]
  },
  {
   "cell_type": "code",
   "execution_count": 13,
   "metadata": {},
   "outputs": [],
   "source": [
    "import os\n",
    "import platform \n",
    "import gc\n",
    "\n",
    "import re\n",
    "import numpy as np\n",
    "import pandas as pd\n",
    "\n",
    "pd.options.display.max_columns = None\n",
    "pd.options.display.max_rows = None\n",
    "\n",
    "import matplotlib.pyplot as plt\n",
    "%matplotlib inline\n",
    "\n",
    "import seaborn as sns\n",
    "\n",
    "from sklearn.preprocessing import LabelEncoder\n",
    "from sklearn.model_selection import KFold\n",
    "from sklearn.metrics import mean_squared_error\n",
    "\n",
    "import lightgbm as lgb\n",
    "\n",
    "import warnings \n",
    "warnings.filterwarnings('ignore')"
   ]
  },
  {
   "cell_type": "code",
   "execution_count": 14,
   "metadata": {},
   "outputs": [
    {
     "name": "stdout",
     "output_type": "stream",
     "text": [
      "Darwin\n"
     ]
    }
   ],
   "source": [
    "print(platform.system())\n",
    "if platform.system() == 'Darwin':\n",
    "    path = \"/Users/betashort/Google Drive/Prediction_Salary/\"\n",
    "elif platform.system() == 'Windows':\n",
    "    path = \"C://Users/ail11208/Google ドライブ/SIGNATE_mynavi2019/\""
   ]
  },
  {
   "cell_type": "markdown",
   "metadata": {},
   "source": [
    "# input"
   ]
  },
  {
   "cell_type": "code",
   "execution_count": 15,
   "metadata": {},
   "outputs": [],
   "source": [
    "X = pd.read_csv('input/train_data.csv')\n",
    "X_test = pd.read_csv('input/test_data.csv')"
   ]
  },
  {
   "cell_type": "markdown",
   "metadata": {},
   "source": [
    "# 目的変数 - salary"
   ]
  },
  {
   "cell_type": "code",
   "execution_count": 16,
   "metadata": {},
   "outputs": [
    {
     "data": {
      "image/png": "[encoded data removed]",
      "text/plain": [
       "<Figure size 432x288 with 1 Axes>"
      ]
     },
     "metadata": {
      "needs_background": "light"
     },
     "output_type": "display_data"
    }
   ],
   "source": [
    "sns.distplot(X['salary']);"
   ]
  },
  {
   "cell_type": "markdown",
   "metadata": {},
   "source": [
    "## 対数変換してみる"
   ]
  },
  {
   "cell_type": "code",
   "execution_count": 17,
   "metadata": {
    "scrolled": true
   },
   "outputs": [
    {
     "data": {
      "image/png": "[encoded data removed]",
      "text/plain": [
       "<Figure size 432x288 with 1 Axes>"
      ]
     },
     "metadata": {
      "needs_background": "light"
     },
     "output_type": "display_data"
    }
   ],
   "source": [
    "sns.distplot(np.log(X['salary']));"
   ]
  },
  {
   "cell_type": "markdown",
   "metadata": {},
   "source": [
    "# データについて"
   ]
  },
  {
   "cell_type": "code",
   "execution_count": 18,
   "metadata": {
    "scrolled": true
   },
   "outputs": [
    {
     "data": {
      "text/html": [
       "<div>\n",
       "<style scoped>\n",
       "    .dataframe tbody tr th:only-of-type {\n",
       "        vertical-align: middle;\n",
       "    }\n",
       "\n",
       "    .dataframe tbody tr th {\n",
       "        vertical-align: top;\n",
       "    }\n",
       "\n",
       "    .dataframe thead th {\n",
       "        text-align: right;\n",
       "    }\n",
       "</style>\n",
       "<table border=\"1\" class=\"dataframe\">\n",
       "  <thead>\n",
       "    <tr style=\"text-align: right;\">\n",
       "      <th></th>\n",
       "      <th>id</th>\n",
       "      <th>position</th>\n",
       "      <th>age</th>\n",
       "      <th>sex</th>\n",
       "      <th>partner</th>\n",
       "      <th>num_child</th>\n",
       "      <th>education</th>\n",
       "      <th>service_length</th>\n",
       "      <th>study_time</th>\n",
       "      <th>commute</th>\n",
       "      <th>overtime</th>\n",
       "      <th>salary</th>\n",
       "    </tr>\n",
       "  </thead>\n",
       "  <tbody>\n",
       "    <tr>\n",
       "      <th>count</th>\n",
       "      <td>21000.000000</td>\n",
       "      <td>21000.000000</td>\n",
       "      <td>21000.000000</td>\n",
       "      <td>21000.000000</td>\n",
       "      <td>21000.000000</td>\n",
       "      <td>21000.000000</td>\n",
       "      <td>21000.000000</td>\n",
       "      <td>21000.000000</td>\n",
       "      <td>21000.000000</td>\n",
       "      <td>21000.000000</td>\n",
       "      <td>21000.000000</td>\n",
       "      <td>21000.000000</td>\n",
       "    </tr>\n",
       "    <tr>\n",
       "      <th>mean</th>\n",
       "      <td>10499.500000</td>\n",
       "      <td>1.226857</td>\n",
       "      <td>33.132476</td>\n",
       "      <td>1.498333</td>\n",
       "      <td>0.499333</td>\n",
       "      <td>0.999667</td>\n",
       "      <td>1.098571</td>\n",
       "      <td>12.303143</td>\n",
       "      <td>3.828476</td>\n",
       "      <td>1.059910</td>\n",
       "      <td>12.126752</td>\n",
       "      <td>361.170391</td>\n",
       "    </tr>\n",
       "    <tr>\n",
       "      <th>std</th>\n",
       "      <td>6062.322162</td>\n",
       "      <td>1.224682</td>\n",
       "      <td>10.715241</td>\n",
       "      <td>0.500009</td>\n",
       "      <td>0.500011</td>\n",
       "      <td>1.417459</td>\n",
       "      <td>1.116355</td>\n",
       "      <td>10.696823</td>\n",
       "      <td>3.312927</td>\n",
       "      <td>0.665307</td>\n",
       "      <td>5.509408</td>\n",
       "      <td>171.618501</td>\n",
       "    </tr>\n",
       "    <tr>\n",
       "      <th>min</th>\n",
       "      <td>0.000000</td>\n",
       "      <td>0.000000</td>\n",
       "      <td>18.000000</td>\n",
       "      <td>1.000000</td>\n",
       "      <td>0.000000</td>\n",
       "      <td>0.000000</td>\n",
       "      <td>0.000000</td>\n",
       "      <td>0.000000</td>\n",
       "      <td>0.000000</td>\n",
       "      <td>0.100000</td>\n",
       "      <td>0.000000</td>\n",
       "      <td>110.622310</td>\n",
       "    </tr>\n",
       "    <tr>\n",
       "      <th>25%</th>\n",
       "      <td>5249.750000</td>\n",
       "      <td>0.000000</td>\n",
       "      <td>24.000000</td>\n",
       "      <td>1.000000</td>\n",
       "      <td>0.000000</td>\n",
       "      <td>0.000000</td>\n",
       "      <td>0.000000</td>\n",
       "      <td>3.000000</td>\n",
       "      <td>1.000000</td>\n",
       "      <td>0.500000</td>\n",
       "      <td>8.300000</td>\n",
       "      <td>225.498117</td>\n",
       "    </tr>\n",
       "    <tr>\n",
       "      <th>50%</th>\n",
       "      <td>10499.500000</td>\n",
       "      <td>1.000000</td>\n",
       "      <td>30.000000</td>\n",
       "      <td>1.000000</td>\n",
       "      <td>0.000000</td>\n",
       "      <td>0.000000</td>\n",
       "      <td>1.000000</td>\n",
       "      <td>9.000000</td>\n",
       "      <td>3.000000</td>\n",
       "      <td>1.100000</td>\n",
       "      <td>12.100000</td>\n",
       "      <td>315.224583</td>\n",
       "    </tr>\n",
       "    <tr>\n",
       "      <th>75%</th>\n",
       "      <td>15749.250000</td>\n",
       "      <td>2.000000</td>\n",
       "      <td>42.000000</td>\n",
       "      <td>2.000000</td>\n",
       "      <td>1.000000</td>\n",
       "      <td>2.000000</td>\n",
       "      <td>2.000000</td>\n",
       "      <td>21.000000</td>\n",
       "      <td>6.000000</td>\n",
       "      <td>1.500000</td>\n",
       "      <td>15.800000</td>\n",
       "      <td>456.927443</td>\n",
       "    </tr>\n",
       "    <tr>\n",
       "      <th>max</th>\n",
       "      <td>20999.000000</td>\n",
       "      <td>4.000000</td>\n",
       "      <td>67.000000</td>\n",
       "      <td>2.000000</td>\n",
       "      <td>1.000000</td>\n",
       "      <td>9.000000</td>\n",
       "      <td>4.000000</td>\n",
       "      <td>49.000000</td>\n",
       "      <td>24.000000</td>\n",
       "      <td>4.800000</td>\n",
       "      <td>31.900000</td>\n",
       "      <td>1098.943632</td>\n",
       "    </tr>\n",
       "  </tbody>\n",
       "</table>\n",
       "</div>"
      ],
      "text/plain": [
       "                 id      position           age           sex       partner  \\\n",
       "count  21000.000000  21000.000000  21000.000000  21000.000000  21000.000000   \n",
       "mean   10499.500000      1.226857     33.132476      1.498333      0.499333   \n",
       "std     6062.322162      1.224682     10.715241      0.500009      0.500011   \n",
       "min        0.000000      0.000000     18.000000      1.000000      0.000000   \n",
       "25%     5249.750000      0.000000     24.000000      1.000000      0.000000   \n",
       "50%    10499.500000      1.000000     30.000000      1.000000      0.000000   \n",
       "75%    15749.250000      2.000000     42.000000      2.000000      1.000000   \n",
       "max    20999.000000      4.000000     67.000000      2.000000      1.000000   \n",
       "\n",
       "          num_child     education  service_length    study_time       commute  \\\n",
       "count  21000.000000  21000.000000    21000.000000  21000.000000  21000.000000   \n",
       "mean       0.999667      1.098571       12.303143      3.828476      1.059910   \n",
       "std        1.417459      1.116355       10.696823      3.312927      0.665307   \n",
       "min        0.000000      0.000000        0.000000      0.000000      0.100000   \n",
       "25%        0.000000      0.000000        3.000000      1.000000      0.500000   \n",
       "50%        0.000000      1.000000        9.000000      3.000000      1.100000   \n",
       "75%        2.000000      2.000000       21.000000      6.000000      1.500000   \n",
       "max        9.000000      4.000000       49.000000     24.000000      4.800000   \n",
       "\n",
       "           overtime        salary  \n",
       "count  21000.000000  21000.000000  \n",
       "mean      12.126752    361.170391  \n",
       "std        5.509408    171.618501  \n",
       "min        0.000000    110.622310  \n",
       "25%        8.300000    225.498117  \n",
       "50%       12.100000    315.224583  \n",
       "75%       15.800000    456.927443  \n",
       "max       31.900000   1098.943632  "
      ]
     },
     "execution_count": 18,
     "metadata": {},
     "output_type": "execute_result"
    }
   ],
   "source": [
    "X.describe()"
   ]
  },
  {
   "cell_type": "markdown",
   "metadata": {},
   "source": [
    "<img src='./image/description.png'>"
   ]
  },
  {
   "cell_type": "markdown",
   "metadata": {},
   "source": [
    "# 欠測値\n",
    "欠測値は無い"
   ]
  },
  {
   "cell_type": "code",
   "execution_count": 19,
   "metadata": {},
   "outputs": [
    {
     "data": {
      "text/plain": [
       "id                0\n",
       "position          0\n",
       "age               0\n",
       "area              0\n",
       "sex               0\n",
       "partner           0\n",
       "num_child         0\n",
       "education         0\n",
       "service_length    0\n",
       "study_time        0\n",
       "commute           0\n",
       "overtime          0\n",
       "salary            0\n",
       "dtype: int64"
      ]
     },
     "execution_count": 19,
     "metadata": {},
     "output_type": "execute_result"
    }
   ],
   "source": [
    "X.isnull().sum()"
   ]
  },
  {
   "cell_type": "code",
   "execution_count": 20,
   "metadata": {},
   "outputs": [
    {
     "data": {
      "text/plain": [
       "id                0\n",
       "position          0\n",
       "age               0\n",
       "area              0\n",
       "sex               0\n",
       "partner           0\n",
       "num_child         0\n",
       "education         0\n",
       "service_length    0\n",
       "study_time        0\n",
       "commute           0\n",
       "overtime          0\n",
       "dtype: int64"
      ]
     },
     "execution_count": 20,
     "metadata": {},
     "output_type": "execute_result"
    }
   ],
   "source": [
    "X_test.isnull().sum()"
   ]
  },
  {
   "cell_type": "code",
   "execution_count": 21,
   "metadata": {},
   "outputs": [
    {
     "data": {
      "text/plain": [
       "id                  int64\n",
       "position            int64\n",
       "age                 int64\n",
       "area               object\n",
       "sex                 int64\n",
       "partner             int64\n",
       "num_child           int64\n",
       "education           int64\n",
       "service_length      int64\n",
       "study_time        float64\n",
       "commute           float64\n",
       "overtime          float64\n",
       "salary            float64\n",
       "dtype: object"
      ]
     },
     "execution_count": 21,
     "metadata": {},
     "output_type": "execute_result"
    }
   ],
   "source": [
    "X.dtypes"
   ]
  },
  {
   "cell_type": "markdown",
   "metadata": {},
   "source": [
    "# 相関係数"
   ]
  },
  {
   "cell_type": "code",
   "execution_count": 22,
   "metadata": {
    "scrolled": true
   },
   "outputs": [
    {
     "data": {
      "image/png": "[encoded data removed]",
      "text/plain": [
       "<Figure size 432x288 with 2 Axes>"
      ]
     },
     "metadata": {
      "needs_background": "light"
     },
     "output_type": "display_data"
    }
   ],
   "source": [
    "#plt.figure(figsize=(20, 20))\n",
    "sns.heatmap(X.corr()[abs(X.corr())>0.5] , cbar=True)\n",
    "#sns.heatmap(X.corr(), cbar=True, annot=True)\n",
    "plt.show()"
   ]
  },
  {
   "cell_type": "code",
   "execution_count": 23,
   "metadata": {
    "scrolled": true
   },
   "outputs": [
    {
     "data": {
      "text/plain": [
       "salary            1.000000\n",
       "position          0.753490\n",
       "age               0.718382\n",
       "commute           0.623286\n",
       "service_length    0.621291\n",
       "education         0.454572\n",
       "study_time        0.244490\n",
       "num_child         0.171319\n",
       "partner           0.144524\n",
       "id                0.010266\n",
       "sex              -0.029740\n",
       "overtime         -0.036701\n",
       "Name: salary, dtype: float64"
      ]
     },
     "execution_count": 23,
     "metadata": {},
     "output_type": "execute_result"
    }
   ],
   "source": [
    "X.corr()['salary'].sort_values(ascending=False)"
   ]
  },
  {
   "cell_type": "markdown",
   "metadata": {},
   "source": [
    "## 目的変数とのabs相関の高い変数(0.5以上)\n",
    "1. position - 0.753490\n",
    "2. age - 0.718382\n",
    "3. commute - 0.623286\n",
    "4. service_length - 0.621291"
   ]
  },
  {
   "cell_type": "markdown",
   "metadata": {},
   "source": [
    "# position\n",
    "役職（0=役職なし, 1=主任, 2=係長, 3=課長, 4=部長）"
   ]
  },
  {
   "cell_type": "code",
   "execution_count": 24,
   "metadata": {},
   "outputs": [
    {
     "data": {
      "image/png": "[encoded data removed]",
      "text/plain": [
       "<Figure size 432x288 with 1 Axes>"
      ]
     },
     "metadata": {
      "needs_background": "light"
     },
     "output_type": "display_data"
    }
   ],
   "source": [
    "position = X['position']\n",
    "sns.distplot(position);"
   ]
  },
  {
   "cell_type": "code",
   "execution_count": 25,
   "metadata": {},
   "outputs": [
    {
     "data": {
      "text/plain": [
       "0    8149\n",
       "2    4939\n",
       "1    4515\n",
       "3    2217\n",
       "4    1180\n",
       "Name: position, dtype: int64"
      ]
     },
     "execution_count": 25,
     "metadata": {},
     "output_type": "execute_result"
    }
   ],
   "source": [
    "position.value_counts()"
   ]
  },
  {
   "cell_type": "code",
   "execution_count": 26,
   "metadata": {},
   "outputs": [
    {
     "data": {
      "text/plain": [
       "position\n",
       "0    221.397176\n",
       "1    351.982230\n",
       "2    462.109367\n",
       "3    522.594037\n",
       "4    635.816707\n",
       "Name: salary, dtype: float64"
      ]
     },
     "execution_count": 26,
     "metadata": {},
     "output_type": "execute_result"
    }
   ],
   "source": [
    "X.groupby('position')['salary'].mean()"
   ]
  },
  {
   "cell_type": "code",
   "execution_count": 27,
   "metadata": {},
   "outputs": [
    {
     "data": {
      "text/plain": [
       "position          1.000000\n",
       "age               0.824020\n",
       "service_length    0.788785\n",
       "salary            0.753490\n",
       "Name: position, dtype: float64"
      ]
     },
     "execution_count": 27,
     "metadata": {},
     "output_type": "execute_result"
    }
   ],
   "source": [
    "X.corr()[abs(X.corr()['position']) > 0.5]['position']"
   ]
  },
  {
   "cell_type": "markdown",
   "metadata": {},
   "source": [
    "## まとめ\n",
    "役職が高い人は、\"年が高い\"・\"残業が長い\"・\"給与が高い\"傾向がある。"
   ]
  },
  {
   "cell_type": "markdown",
   "metadata": {},
   "source": [
    "# age\n",
    "年齢（歳）"
   ]
  },
  {
   "cell_type": "code",
   "execution_count": 28,
   "metadata": {},
   "outputs": [
    {
     "data": {
      "image/png": "[encoded data removed]",
      "text/plain": [
       "<Figure size 432x288 with 1 Axes>"
      ]
     },
     "metadata": {
      "needs_background": "light"
     },
     "output_type": "display_data"
    }
   ],
   "source": [
    "sns.distplot(X['age']);"
   ]
  },
  {
   "cell_type": "code",
   "execution_count": 63,
   "metadata": {},
   "outputs": [
    {
     "data": {
      "text/plain": [
       "sex  age\n",
       "1    18     172\n",
       "     19     104\n",
       "     20     223\n",
       "     21     454\n",
       "     22     690\n",
       "     23     870\n",
       "     24     855\n",
       "     25     681\n",
       "     26     515\n",
       "     27     309\n",
       "     28     217\n",
       "     29     178\n",
       "     30     155\n",
       "     31     156\n",
       "     32     166\n",
       "     33     205\n",
       "     34     197\n",
       "     35     222\n",
       "     36     224\n",
       "     37     235\n",
       "     38     245\n",
       "     39     268\n",
       "     40     256\n",
       "     41     242\n",
       "     42     255\n",
       "     43     262\n",
       "     44     240\n",
       "     45     224\n",
       "     46     228\n",
       "     47     206\n",
       "     48     210\n",
       "     49     180\n",
       "     50     156\n",
       "     51     155\n",
       "     52     149\n",
       "     53     100\n",
       "     54      81\n",
       "     55      62\n",
       "     56      54\n",
       "     57      37\n",
       "     58      36\n",
       "     59      22\n",
       "     60      10\n",
       "     61       7\n",
       "     62       8\n",
       "     63       6\n",
       "     64       2\n",
       "     65       5\n",
       "     66       1\n",
       "2    18     164\n",
       "     19     117\n",
       "     20     208\n",
       "     21     388\n",
       "     22     633\n",
       "     23     837\n",
       "     24     834\n",
       "     25     720\n",
       "     26     472\n",
       "     27     316\n",
       "     28     199\n",
       "     29     157\n",
       "     30     147\n",
       "     31     181\n",
       "     32     178\n",
       "     33     178\n",
       "     34     188\n",
       "     35     193\n",
       "     36     212\n",
       "     37     237\n",
       "     38     235\n",
       "     39     276\n",
       "     40     268\n",
       "     41     270\n",
       "     42     248\n",
       "     43     222\n",
       "     44     266\n",
       "     45     269\n",
       "     46     246\n",
       "     47     251\n",
       "     48     232\n",
       "     49     176\n",
       "     50     182\n",
       "     51     174\n",
       "     52     131\n",
       "     53     121\n",
       "     54      98\n",
       "     55      73\n",
       "     56      59\n",
       "     57      31\n",
       "     58      23\n",
       "     59      22\n",
       "     60       8\n",
       "     61       5\n",
       "     62      10\n",
       "     63       3\n",
       "     65       5\n",
       "     67       2\n",
       "Name: salary, dtype: int64"
      ]
     },
     "execution_count": 63,
     "metadata": {},
     "output_type": "execute_result"
    }
   ],
   "source": [
    "X.groupby(['sex', 'age'])['salary'].count()"
   ]
  },
  {
   "cell_type": "code",
   "execution_count": 56,
   "metadata": {},
   "outputs": [
    {
     "name": "stdout",
     "output_type": "stream",
     "text": [
      "(172,)\n"
     ]
    }
   ],
   "source": []
  },
  {
   "cell_type": "markdown",
   "metadata": {},
   "source": [
    "# area"
   ]
  },
  {
   "cell_type": "code",
   "execution_count": 29,
   "metadata": {},
   "outputs": [
    {
     "data": {
      "text/plain": [
       "0     愛知県\n",
       "1     奈良県\n",
       "2     山口県\n",
       "3     東京都\n",
       "4    鹿児島県\n",
       "Name: area, dtype: object"
      ]
     },
     "execution_count": 29,
     "metadata": {},
     "output_type": "execute_result"
    }
   ],
   "source": [
    "X['area'].head()"
   ]
  },
  {
   "cell_type": "code",
   "execution_count": 30,
   "metadata": {
    "scrolled": true
   },
   "outputs": [
    {
     "data": {
      "text/plain": [
       "鹿児島県    492\n",
       "三重県     486\n",
       "岡山県     477\n",
       "長崎県     472\n",
       "沖縄県     471\n",
       "東京都     470\n",
       "京都府     469\n",
       "奈良県     467\n",
       "埼玉県     465\n",
       "福島県     465\n",
       "宮崎県     464\n",
       "福岡県     463\n",
       "和歌山県    462\n",
       "群馬県     462\n",
       "熊本県     462\n",
       "愛媛県     457\n",
       "石川県     456\n",
       "佐賀県     455\n",
       "広島県     453\n",
       "山梨県     452\n",
       "青森県     451\n",
       "香川県     451\n",
       "大分県     446\n",
       "島根県     446\n",
       "千葉県     445\n",
       "岩手県     440\n",
       "徳島県     438\n",
       "新潟県     437\n",
       "茨城県     437\n",
       "神奈川県    437\n",
       "岐阜県     435\n",
       "栃木県     434\n",
       "山口県     433\n",
       "秋田県     432\n",
       "富山県     431\n",
       "福井県     431\n",
       "鳥取県     429\n",
       "長野県     428\n",
       "大阪府     427\n",
       "静岡県     426\n",
       "滋賀県     426\n",
       "宮城県     426\n",
       "北海道     423\n",
       "山形県     423\n",
       "愛知県     423\n",
       "兵庫県     418\n",
       "高知県     407\n",
       "Name: area, dtype: int64"
      ]
     },
     "execution_count": 30,
     "metadata": {},
     "output_type": "execute_result"
    }
   ],
   "source": [
    "X['area'].value_counts()"
   ]
  },
  {
   "cell_type": "code",
   "execution_count": 31,
   "metadata": {
    "scrolled": true
   },
   "outputs": [
    {
     "data": {
      "text/plain": [
       "area\n",
       "東京都     409.596069\n",
       "大阪府     404.067119\n",
       "愛知県     384.661121\n",
       "福岡県     377.680773\n",
       "岐阜県     374.783402\n",
       "群馬県     374.659085\n",
       "滋賀県     372.962529\n",
       "秋田県     371.160220\n",
       "熊本県     370.048375\n",
       "茨城県     366.557272\n",
       "三重県     365.944746\n",
       "富山県     365.825834\n",
       "山梨県     365.226098\n",
       "福島県     364.271705\n",
       "佐賀県     364.043276\n",
       "鳥取県     362.330501\n",
       "青森県     362.324718\n",
       "栃木県     362.270617\n",
       "和歌山県    362.038188\n",
       "奈良県     362.036901\n",
       "宮城県     361.346471\n",
       "山口県     359.697101\n",
       "島根県     357.484139\n",
       "神奈川県    357.461970\n",
       "大分県     357.168997\n",
       "長野県     356.602902\n",
       "京都府     355.784066\n",
       "宮崎県     355.519936\n",
       "北海道     355.458201\n",
       "広島県     355.141623\n",
       "石川県     354.799094\n",
       "愛媛県     354.154638\n",
       "兵庫県     353.478069\n",
       "鹿児島県    352.318505\n",
       "新潟県     351.799265\n",
       "長崎県     351.646007\n",
       "岩手県     351.532641\n",
       "福井県     351.469885\n",
       "高知県     351.454481\n",
       "徳島県     351.445603\n",
       "千葉県     351.107276\n",
       "岡山県     350.777185\n",
       "香川県     350.713696\n",
       "山形県     350.567906\n",
       "埼玉県     349.922055\n",
       "静岡県     349.548015\n",
       "沖縄県     335.208222\n",
       "Name: salary, dtype: float64"
      ]
     },
     "execution_count": 31,
     "metadata": {},
     "output_type": "execute_result"
    }
   ],
   "source": [
    "X.groupby('area')['salary'].mean().sort_values(ascending=False)"
   ]
  },
  {
   "cell_type": "markdown",
   "metadata": {},
   "source": [
    "# sex\n"
   ]
  },
  {
   "cell_type": "code",
   "execution_count": 32,
   "metadata": {},
   "outputs": [
    {
     "data": {
      "image/png": "[encoded data removed]",
      "text/plain": [
       "<Figure size 432x288 with 1 Axes>"
      ]
     },
     "metadata": {
      "needs_background": "light"
     },
     "output_type": "display_data"
    },
    {
     "name": "stdout",
     "output_type": "stream",
     "text": [
      "1    10535\n",
      "2    10465\n",
      "Name: sex, dtype: int64\n"
     ]
    }
   ],
   "source": [
    "col = 'sex'\n",
    "sns.distplot(X[col])\n",
    "plt.show()\n",
    "print(X[col].value_counts())"
   ]
  },
  {
   "cell_type": "code",
   "execution_count": 34,
   "metadata": {},
   "outputs": [
    {
     "data": {
      "text/plain": [
       "<matplotlib.axes._subplots.AxesSubplot at 0x1a20cf46d0>"
      ]
     },
     "execution_count": 34,
     "metadata": {},
     "output_type": "execute_result"
    },
    {
     "data": {
      "image/png": "[encoded data removed]",
      "text/plain": [
       "<Figure size 432x288 with 1 Axes>"
      ]
     },
     "metadata": {
      "needs_background": "light"
     },
     "output_type": "display_data"
    }
   ],
   "source": [
    "X.groupby(col)['salary'].mean().sort_values(ascending=False).plot.bar()"
   ]
  },
  {
   "cell_type": "markdown",
   "metadata": {},
   "source": [
    "## 性別と役職"
   ]
  },
  {
   "cell_type": "code",
   "execution_count": 40,
   "metadata": {},
   "outputs": [
    {
     "data": {
      "text/plain": [
       "sex  position\n",
       "1    0           4112\n",
       "     1           2315\n",
       "     2           2467\n",
       "     3           1071\n",
       "     4            570\n",
       "2    0           4037\n",
       "     1           2200\n",
       "     2           2472\n",
       "     3           1146\n",
       "     4            610\n",
       "Name: salary, dtype: int64"
      ]
     },
     "execution_count": 40,
     "metadata": {},
     "output_type": "execute_result"
    }
   ],
   "source": [
    "X.groupby(['sex', 'position'])['salary'].count()"
   ]
  },
  {
   "cell_type": "code",
   "execution_count": 36,
   "metadata": {
    "scrolled": true
   },
   "outputs": [
    {
     "data": {
      "text/plain": [
       "sex  position\n",
       "1    0           228.552222\n",
       "     1           360.087364\n",
       "     2           464.628596\n",
       "     3           535.212717\n",
       "     4           641.506211\n",
       "2    0           214.109202\n",
       "     1           343.453418\n",
       "     2           459.595233\n",
       "     3           510.801186\n",
       "     4           630.500286\n",
       "Name: salary, dtype: float64"
      ]
     },
     "execution_count": 36,
     "metadata": {},
     "output_type": "execute_result"
    }
   ],
   "source": [
    "X.groupby(['sex', 'position'])['salary'].mean()"
   ]
  },
  {
   "cell_type": "markdown",
   "metadata": {},
   "source": [
    "## 平均給与で、男女差は無い"
   ]
  },
  {
   "cell_type": "markdown",
   "metadata": {},
   "source": [
    "# num_child\n"
   ]
  },
  {
   "cell_type": "code",
   "execution_count": 93,
   "metadata": {},
   "outputs": [
    {
     "data": {
      "image/png": "[encoded data removed]",
      "text/plain": [
       "<Figure size 432x288 with 1 Axes>"
      ]
     },
     "metadata": {
      "needs_background": "light"
     },
     "output_type": "display_data"
    },
    {
     "name": "stdout",
     "output_type": "stream",
     "text": [
      "0    11947\n",
      "2     2854\n",
      "1     2817\n",
      "3     1870\n",
      "4      948\n",
      "5      377\n",
      "6      137\n",
      "7       43\n",
      "8        5\n",
      "9        2\n",
      "Name: num_child, dtype: int64\n",
      "num_child\n",
      "7    493.407032\n",
      "6    451.391650\n",
      "5    444.529636\n",
      "8    434.533102\n",
      "9    421.421379\n",
      "4    419.339429\n",
      "3    397.661301\n",
      "2    386.638487\n",
      "1    371.594381\n",
      "0    338.119180\n",
      "Name: salary, dtype: float64\n"
     ]
    }
   ],
   "source": [
    "col = 'num_child'\n",
    "sns.distplot(X[col])\n",
    "plt.show()\n",
    "print(X[col].value_counts())\n",
    "print(X.groupby(col)['salary'].mean().sort_values(ascending=False))"
   ]
  },
  {
   "cell_type": "markdown",
   "metadata": {},
   "source": [
    "# education"
   ]
  },
  {
   "cell_type": "code",
   "execution_count": 94,
   "metadata": {},
   "outputs": [
    {
     "data": {
      "image/png": "[encoded data removed]",
      "text/plain": [
       "<Figure size 432x288 with 1 Axes>"
      ]
     },
     "metadata": {
      "needs_background": "light"
     },
     "output_type": "display_data"
    },
    {
     "name": "stdout",
     "output_type": "stream",
     "text": [
      "0    8019\n",
      "1    6217\n",
      "2    4247\n",
      "3    1709\n",
      "4     808\n",
      "Name: education, dtype: int64\n",
      "education\n",
      "4    689.959198\n",
      "3    513.527494\n",
      "2    385.366883\n",
      "1    325.703226\n",
      "0    310.253471\n",
      "Name: salary, dtype: float64\n"
     ]
    }
   ],
   "source": [
    "col = 'education'\n",
    "sns.distplot(X[col])\n",
    "plt.show()\n",
    "print(X[col].value_counts())\n",
    "print(X.groupby(col)['salary'].mean().sort_values(ascending=False))"
   ]
  },
  {
   "cell_type": "markdown",
   "metadata": {},
   "source": [
    "# service_length\n"
   ]
  },
  {
   "cell_type": "code",
   "execution_count": 95,
   "metadata": {},
   "outputs": [
    {
     "data": {
      "image/png": "[encoded data removed]",
      "text/plain": [
       "<Figure size 432x288 with 1 Axes>"
      ]
     },
     "metadata": {
      "needs_background": "light"
     },
     "output_type": "display_data"
    },
    {
     "name": "stdout",
     "output_type": "stream",
     "text": [
      "0     2617\n",
      "2     1344\n",
      "5     1163\n",
      "4     1093\n",
      "6     1011\n",
      "3      971\n",
      "1      845\n",
      "7      814\n",
      "8      573\n",
      "19     488\n",
      "21     485\n",
      "23     484\n",
      "18     479\n",
      "22     471\n",
      "20     470\n",
      "17     465\n",
      "9      461\n",
      "24     451\n",
      "25     436\n",
      "26     435\n",
      "16     432\n",
      "15     427\n",
      "14     410\n",
      "27     395\n",
      "13     372\n",
      "28     366\n",
      "10     358\n",
      "11     357\n",
      "12     330\n",
      "29     328\n",
      "30     308\n",
      "31     289\n",
      "32     239\n",
      "33     204\n",
      "34     164\n",
      "35     132\n",
      "36      95\n",
      "37      67\n",
      "38      53\n",
      "39      39\n",
      "40      24\n",
      "42      15\n",
      "41      12\n",
      "45       9\n",
      "44       8\n",
      "43       7\n",
      "47       3\n",
      "49       1\n",
      "Name: service_length, dtype: int64\n",
      "service_length\n",
      "49    663.390296\n",
      "44    570.864443\n",
      "43    553.755363\n",
      "31    545.094192\n",
      "42    539.273452\n",
      "35    531.762347\n",
      "30    531.732365\n",
      "32    530.789197\n",
      "29    529.196242\n",
      "33    527.541124\n",
      "34    527.029456\n",
      "37    526.914513\n",
      "39    524.176800\n",
      "36    520.278145\n",
      "28    516.141561\n",
      "41    515.455797\n",
      "38    512.228209\n",
      "40    509.493169\n",
      "27    501.981707\n",
      "26    500.959757\n",
      "25    500.061935\n",
      "24    499.072783\n",
      "45    498.576075\n",
      "47    498.233044\n",
      "23    494.874719\n",
      "22    475.997335\n",
      "21    467.039571\n",
      "20    453.695217\n",
      "19    446.588059\n",
      "18    445.587305\n",
      "17    430.633563\n",
      "15    425.793674\n",
      "16    422.939356\n",
      "14    412.247099\n",
      "13    410.401586\n",
      "12    405.652440\n",
      "11    405.150894\n",
      "10    379.575765\n",
      "9     352.496130\n",
      "8     299.700142\n",
      "7     282.411810\n",
      "6     259.932069\n",
      "2     252.452040\n",
      "0     252.342925\n",
      "5     252.087979\n",
      "3     249.643918\n",
      "4     249.162966\n",
      "1     244.117584\n",
      "Name: salary, dtype: float64\n"
     ]
    }
   ],
   "source": [
    "col = 'service_length'\n",
    "sns.distplot(X[col])\n",
    "plt.show()\n",
    "print(X[col].value_counts())\n",
    "print(X.groupby(col)['salary'].mean().sort_values(ascending=False))"
   ]
  },
  {
   "cell_type": "markdown",
   "metadata": {},
   "source": [
    "# study_time"
   ]
  },
  {
   "cell_type": "code",
   "execution_count": 96,
   "metadata": {
    "scrolled": true
   },
   "outputs": [
    {
     "data": {
      "image/png": "[encoded data removed]",
      "text/plain": [
       "<Figure size 432x288 with 1 Axes>"
      ]
     },
     "metadata": {
      "needs_background": "light"
     },
     "output_type": "display_data"
    },
    {
     "name": "stdout",
     "output_type": "stream",
     "text": [
      "0.0     4300\n",
      "3.0     2438\n",
      "4.0     2285\n",
      "2.0     2257\n",
      "5.0     1917\n",
      "1.0     1914\n",
      "6.0     1705\n",
      "7.0     1284\n",
      "8.0      883\n",
      "9.0      671\n",
      "10.0     487\n",
      "11.0     328\n",
      "12.0     201\n",
      "13.0     133\n",
      "14.0      96\n",
      "15.0      40\n",
      "16.0      29\n",
      "17.0      14\n",
      "18.0       8\n",
      "19.0       4\n",
      "20.0       4\n",
      "24.0       1\n",
      "21.0       1\n",
      "Name: study_time, dtype: int64\n",
      "study_time\n",
      "20.0    722.005866\n",
      "24.0    701.928057\n",
      "19.0    651.107785\n",
      "18.0    637.161308\n",
      "17.0    628.910502\n",
      "15.0    615.598101\n",
      "16.0    587.921529\n",
      "14.0    573.266600\n",
      "21.0    570.099073\n",
      "13.0    543.051003\n",
      "12.0    493.774722\n",
      "11.0    493.494859\n",
      "10.0    466.163895\n",
      "9.0     446.106037\n",
      "8.0     413.085505\n",
      "7.0     399.140151\n",
      "6.0     369.070437\n",
      "5.0     359.840382\n",
      "0.0     350.985305\n",
      "4.0     345.783625\n",
      "3.0     321.204021\n",
      "2.0     320.302593\n",
      "1.0     316.512200\n",
      "Name: salary, dtype: float64\n"
     ]
    }
   ],
   "source": [
    "col = 'study_time'\n",
    "sns.distplot(X[col])\n",
    "plt.show()\n",
    "print(X[col].value_counts())\n",
    "print(X.groupby(col)['salary'].mean().sort_values(ascending=False))"
   ]
  },
  {
   "cell_type": "markdown",
   "metadata": {},
   "source": [
    "# commute\n"
   ]
  },
  {
   "cell_type": "code",
   "execution_count": 97,
   "metadata": {},
   "outputs": [
    {
     "data": {
      "image/png": "[encoded data removed]",
      "text/plain": [
       "<Figure size 432x288 with 1 Axes>"
      ]
     },
     "metadata": {
      "needs_background": "light"
     },
     "output_type": "display_data"
    }
   ],
   "source": [
    "col = 'commute'\n",
    "sns.distplot(X[col])\n",
    "plt.show()"
   ]
  },
  {
   "cell_type": "code",
   "execution_count": 98,
   "metadata": {
    "scrolled": true
   },
   "outputs": [
    {
     "name": "stdout",
     "output_type": "stream",
     "text": [
      "1.2    1607\n",
      "0.2    1433\n",
      "0.1    1280\n",
      "1.1    1272\n",
      "1.3    1263\n",
      "0.3    1121\n",
      "0.6    1098\n",
      "0.7    1087\n",
      "0.8     973\n",
      "1.6     918\n",
      "1.4     906\n",
      "0.5     902\n",
      "1.7     877\n",
      "1.5     870\n",
      "1.0     816\n",
      "0.9     792\n",
      "0.4     763\n",
      "1.8     708\n",
      "1.9     567\n",
      "2.0     391\n",
      "2.1     326\n",
      "2.2     253\n",
      "2.3     231\n",
      "2.4     137\n",
      "2.5      83\n",
      "3.1      35\n",
      "3.3      30\n",
      "2.6      29\n",
      "2.9      22\n",
      "2.8      21\n",
      "3.2      20\n",
      "3.0      20\n",
      "2.7      19\n",
      "3.6      19\n",
      "3.4      17\n",
      "3.7      15\n",
      "3.5      15\n",
      "4.0      13\n",
      "3.8      11\n",
      "4.1       9\n",
      "4.2       8\n",
      "4.3       6\n",
      "3.9       6\n",
      "4.5       5\n",
      "4.6       3\n",
      "4.7       2\n",
      "4.8       1\n",
      "Name: commute, dtype: int64\n"
     ]
    }
   ],
   "source": [
    "print(X[col].value_counts())"
   ]
  },
  {
   "cell_type": "code",
   "execution_count": 99,
   "metadata": {
    "scrolled": true
   },
   "outputs": [
    {
     "name": "stdout",
     "output_type": "stream",
     "text": [
      "commute\n",
      "0.1     181.388535\n",
      "0.2     186.251574\n",
      "0.3     197.035577\n",
      "0.4     235.628761\n",
      "0.5     276.714629\n",
      "0.6     309.699232\n",
      "0.7     342.395935\n",
      "0.8     386.175957\n",
      "0.9     438.184835\n",
      "1.0     422.921348\n",
      "1.1     360.618985\n",
      "1.2     352.061248\n",
      "1.3     367.645056\n",
      "1.4     378.696641\n",
      "1.5     389.639900\n",
      "1.6     410.032276\n",
      "1.7     443.587223\n",
      "1.8     494.410122\n",
      "1.9     534.104183\n",
      "2.0     568.968446\n",
      "2.1     633.714997\n",
      "2.2     674.212206\n",
      "2.3     690.180591\n",
      "2.4     678.004242\n",
      "2.5     544.422478\n",
      "2.6     560.690409\n",
      "2.7     513.181019\n",
      "2.8     493.420741\n",
      "2.9     393.102990\n",
      "3.0     388.334842\n",
      "3.1     413.041105\n",
      "3.2     456.159256\n",
      "3.3     497.262074\n",
      "3.4     481.378378\n",
      "3.5     533.163440\n",
      "3.6     585.505397\n",
      "3.7     599.802643\n",
      "3.8     584.301804\n",
      "3.9     585.757073\n",
      "4.0     623.636692\n",
      "4.1     574.143539\n",
      "4.2     605.957661\n",
      "4.3     691.416333\n",
      "4.5     760.405916\n",
      "4.6     863.502342\n",
      "4.7     782.371028\n",
      "4.8    1012.249230\n",
      "Name: salary, dtype: float64\n"
     ]
    }
   ],
   "source": [
    "print(X.groupby(col)['salary'].mean())"
   ]
  },
  {
   "cell_type": "markdown",
   "metadata": {},
   "source": [
    "# Groupby"
   ]
  },
  {
   "cell_type": "code",
   "execution_count": 100,
   "metadata": {},
   "outputs": [
    {
     "data": {
      "image/png": "[encoded data removed]",
      "text/plain": [
       "<Figure size 432x288 with 2 Axes>"
      ]
     },
     "metadata": {
      "needs_background": "light"
     },
     "output_type": "display_data"
    }
   ],
   "source": [
    "#plt.figure(figsize=(20, 20))\n",
    "sns.heatmap(X.corr()[abs(X.corr())>0.5] , cbar=True)\n",
    "#sns.heatmap(X.corr(), cbar=True, annot=True)\n",
    "plt.show()"
   ]
  },
  {
   "cell_type": "markdown",
   "metadata": {},
   "source": [
    "1. position - age\n",
    "2. position - service_length\n",
    "3. age - service_length\n",
    "4. partner - num_child\n",
    "5. partner - commute\n",
    "6. num_child - commute\n",
    "7. service_length - age"
   ]
  },
  {
   "cell_type": "markdown",
   "metadata": {},
   "source": [
    "## 役職と年齢"
   ]
  },
  {
   "cell_type": "code",
   "execution_count": 101,
   "metadata": {
    "scrolled": true
   },
   "outputs": [
    {
     "data": {
      "text/html": [
       "<div>\n",
       "<style scoped>\n",
       "    .dataframe tbody tr th:only-of-type {\n",
       "        vertical-align: middle;\n",
       "    }\n",
       "\n",
       "    .dataframe tbody tr th {\n",
       "        vertical-align: top;\n",
       "    }\n",
       "\n",
       "    .dataframe thead th {\n",
       "        text-align: right;\n",
       "    }\n",
       "</style>\n",
       "<table border=\"1\" class=\"dataframe\">\n",
       "  <thead>\n",
       "    <tr style=\"text-align: right;\">\n",
       "      <th></th>\n",
       "      <th>age</th>\n",
       "      <th>position_0</th>\n",
       "      <th>position_1</th>\n",
       "      <th>position_2</th>\n",
       "      <th>position_3</th>\n",
       "      <th>position_4</th>\n",
       "    </tr>\n",
       "  </thead>\n",
       "  <tbody>\n",
       "    <tr>\n",
       "      <th>0</th>\n",
       "      <td>18.0</td>\n",
       "      <td>204.288484</td>\n",
       "      <td>279.859311</td>\n",
       "      <td>338.813532</td>\n",
       "      <td>NaN</td>\n",
       "      <td>NaN</td>\n",
       "    </tr>\n",
       "    <tr>\n",
       "      <th>1</th>\n",
       "      <td>19.0</td>\n",
       "      <td>204.174923</td>\n",
       "      <td>281.090892</td>\n",
       "      <td>303.849773</td>\n",
       "      <td>NaN</td>\n",
       "      <td>NaN</td>\n",
       "    </tr>\n",
       "    <tr>\n",
       "      <th>2</th>\n",
       "      <td>20.0</td>\n",
       "      <td>206.198108</td>\n",
       "      <td>282.675801</td>\n",
       "      <td>307.718527</td>\n",
       "      <td>NaN</td>\n",
       "      <td>NaN</td>\n",
       "    </tr>\n",
       "    <tr>\n",
       "      <th>3</th>\n",
       "      <td>21.0</td>\n",
       "      <td>214.241101</td>\n",
       "      <td>304.186061</td>\n",
       "      <td>310.073062</td>\n",
       "      <td>NaN</td>\n",
       "      <td>NaN</td>\n",
       "    </tr>\n",
       "    <tr>\n",
       "      <th>4</th>\n",
       "      <td>22.0</td>\n",
       "      <td>213.906630</td>\n",
       "      <td>307.600939</td>\n",
       "      <td>365.705272</td>\n",
       "      <td>NaN</td>\n",
       "      <td>NaN</td>\n",
       "    </tr>\n",
       "    <tr>\n",
       "      <th>5</th>\n",
       "      <td>23.0</td>\n",
       "      <td>219.330908</td>\n",
       "      <td>312.634900</td>\n",
       "      <td>379.666332</td>\n",
       "      <td>353.043465</td>\n",
       "      <td>NaN</td>\n",
       "    </tr>\n",
       "    <tr>\n",
       "      <th>6</th>\n",
       "      <td>24.0</td>\n",
       "      <td>222.610760</td>\n",
       "      <td>312.059399</td>\n",
       "      <td>386.845058</td>\n",
       "      <td>NaN</td>\n",
       "      <td>NaN</td>\n",
       "    </tr>\n",
       "    <tr>\n",
       "      <th>7</th>\n",
       "      <td>25.0</td>\n",
       "      <td>225.799919</td>\n",
       "      <td>334.901577</td>\n",
       "      <td>367.256359</td>\n",
       "      <td>NaN</td>\n",
       "      <td>NaN</td>\n",
       "    </tr>\n",
       "    <tr>\n",
       "      <th>8</th>\n",
       "      <td>26.0</td>\n",
       "      <td>233.975355</td>\n",
       "      <td>333.765839</td>\n",
       "      <td>424.999633</td>\n",
       "      <td>545.670127</td>\n",
       "      <td>NaN</td>\n",
       "    </tr>\n",
       "    <tr>\n",
       "      <th>9</th>\n",
       "      <td>27.0</td>\n",
       "      <td>239.774768</td>\n",
       "      <td>327.045724</td>\n",
       "      <td>386.452650</td>\n",
       "      <td>470.471409</td>\n",
       "      <td>NaN</td>\n",
       "    </tr>\n",
       "    <tr>\n",
       "      <th>10</th>\n",
       "      <td>28.0</td>\n",
       "      <td>241.130823</td>\n",
       "      <td>330.913461</td>\n",
       "      <td>381.667809</td>\n",
       "      <td>432.227026</td>\n",
       "      <td>NaN</td>\n",
       "    </tr>\n",
       "    <tr>\n",
       "      <th>11</th>\n",
       "      <td>29.0</td>\n",
       "      <td>239.036653</td>\n",
       "      <td>343.737785</td>\n",
       "      <td>409.947670</td>\n",
       "      <td>409.992888</td>\n",
       "      <td>NaN</td>\n",
       "    </tr>\n",
       "    <tr>\n",
       "      <th>12</th>\n",
       "      <td>30.0</td>\n",
       "      <td>221.256905</td>\n",
       "      <td>353.632424</td>\n",
       "      <td>403.050239</td>\n",
       "      <td>434.906076</td>\n",
       "      <td>NaN</td>\n",
       "    </tr>\n",
       "    <tr>\n",
       "      <th>13</th>\n",
       "      <td>31.0</td>\n",
       "      <td>211.024981</td>\n",
       "      <td>359.615834</td>\n",
       "      <td>428.237097</td>\n",
       "      <td>461.171685</td>\n",
       "      <td>NaN</td>\n",
       "    </tr>\n",
       "    <tr>\n",
       "      <th>14</th>\n",
       "      <td>32.0</td>\n",
       "      <td>NaN</td>\n",
       "      <td>346.850871</td>\n",
       "      <td>428.087700</td>\n",
       "      <td>478.137854</td>\n",
       "      <td>NaN</td>\n",
       "    </tr>\n",
       "    <tr>\n",
       "      <th>15</th>\n",
       "      <td>33.0</td>\n",
       "      <td>NaN</td>\n",
       "      <td>347.194290</td>\n",
       "      <td>405.563635</td>\n",
       "      <td>476.798457</td>\n",
       "      <td>NaN</td>\n",
       "    </tr>\n",
       "    <tr>\n",
       "      <th>16</th>\n",
       "      <td>34.0</td>\n",
       "      <td>NaN</td>\n",
       "      <td>379.531400</td>\n",
       "      <td>426.661819</td>\n",
       "      <td>506.544315</td>\n",
       "      <td>NaN</td>\n",
       "    </tr>\n",
       "    <tr>\n",
       "      <th>17</th>\n",
       "      <td>35.0</td>\n",
       "      <td>NaN</td>\n",
       "      <td>370.060959</td>\n",
       "      <td>422.997345</td>\n",
       "      <td>484.399774</td>\n",
       "      <td>NaN</td>\n",
       "    </tr>\n",
       "    <tr>\n",
       "      <th>18</th>\n",
       "      <td>36.0</td>\n",
       "      <td>NaN</td>\n",
       "      <td>381.740804</td>\n",
       "      <td>431.719805</td>\n",
       "      <td>496.391901</td>\n",
       "      <td>NaN</td>\n",
       "    </tr>\n",
       "    <tr>\n",
       "      <th>19</th>\n",
       "      <td>37.0</td>\n",
       "      <td>NaN</td>\n",
       "      <td>370.977773</td>\n",
       "      <td>450.553531</td>\n",
       "      <td>502.789200</td>\n",
       "      <td>625.038488</td>\n",
       "    </tr>\n",
       "    <tr>\n",
       "      <th>20</th>\n",
       "      <td>38.0</td>\n",
       "      <td>NaN</td>\n",
       "      <td>364.829882</td>\n",
       "      <td>451.633161</td>\n",
       "      <td>484.087885</td>\n",
       "      <td>704.978879</td>\n",
       "    </tr>\n",
       "    <tr>\n",
       "      <th>21</th>\n",
       "      <td>39.0</td>\n",
       "      <td>NaN</td>\n",
       "      <td>382.413138</td>\n",
       "      <td>440.599078</td>\n",
       "      <td>483.371214</td>\n",
       "      <td>558.389657</td>\n",
       "    </tr>\n",
       "    <tr>\n",
       "      <th>22</th>\n",
       "      <td>40.0</td>\n",
       "      <td>NaN</td>\n",
       "      <td>373.507547</td>\n",
       "      <td>447.866627</td>\n",
       "      <td>469.427878</td>\n",
       "      <td>502.090930</td>\n",
       "    </tr>\n",
       "    <tr>\n",
       "      <th>23</th>\n",
       "      <td>41.0</td>\n",
       "      <td>NaN</td>\n",
       "      <td>410.550012</td>\n",
       "      <td>470.568486</td>\n",
       "      <td>514.423357</td>\n",
       "      <td>579.720094</td>\n",
       "    </tr>\n",
       "    <tr>\n",
       "      <th>24</th>\n",
       "      <td>42.0</td>\n",
       "      <td>NaN</td>\n",
       "      <td>404.175603</td>\n",
       "      <td>485.687970</td>\n",
       "      <td>506.059090</td>\n",
       "      <td>624.523347</td>\n",
       "    </tr>\n",
       "    <tr>\n",
       "      <th>25</th>\n",
       "      <td>43.0</td>\n",
       "      <td>NaN</td>\n",
       "      <td>417.860395</td>\n",
       "      <td>465.810925</td>\n",
       "      <td>528.049016</td>\n",
       "      <td>649.310998</td>\n",
       "    </tr>\n",
       "    <tr>\n",
       "      <th>26</th>\n",
       "      <td>44.0</td>\n",
       "      <td>NaN</td>\n",
       "      <td>381.606450</td>\n",
       "      <td>473.021931</td>\n",
       "      <td>528.373049</td>\n",
       "      <td>602.686409</td>\n",
       "    </tr>\n",
       "    <tr>\n",
       "      <th>27</th>\n",
       "      <td>45.0</td>\n",
       "      <td>NaN</td>\n",
       "      <td>414.809341</td>\n",
       "      <td>461.937420</td>\n",
       "      <td>526.584347</td>\n",
       "      <td>611.168788</td>\n",
       "    </tr>\n",
       "    <tr>\n",
       "      <th>28</th>\n",
       "      <td>46.0</td>\n",
       "      <td>NaN</td>\n",
       "      <td>442.818210</td>\n",
       "      <td>478.280758</td>\n",
       "      <td>524.809903</td>\n",
       "      <td>622.943250</td>\n",
       "    </tr>\n",
       "    <tr>\n",
       "      <th>29</th>\n",
       "      <td>47.0</td>\n",
       "      <td>NaN</td>\n",
       "      <td>409.866328</td>\n",
       "      <td>509.585739</td>\n",
       "      <td>543.903570</td>\n",
       "      <td>625.646483</td>\n",
       "    </tr>\n",
       "    <tr>\n",
       "      <th>30</th>\n",
       "      <td>48.0</td>\n",
       "      <td>NaN</td>\n",
       "      <td>422.962107</td>\n",
       "      <td>498.825021</td>\n",
       "      <td>550.502468</td>\n",
       "      <td>651.468394</td>\n",
       "    </tr>\n",
       "    <tr>\n",
       "      <th>31</th>\n",
       "      <td>49.0</td>\n",
       "      <td>NaN</td>\n",
       "      <td>438.280452</td>\n",
       "      <td>496.387948</td>\n",
       "      <td>554.080827</td>\n",
       "      <td>624.270663</td>\n",
       "    </tr>\n",
       "    <tr>\n",
       "      <th>32</th>\n",
       "      <td>50.0</td>\n",
       "      <td>NaN</td>\n",
       "      <td>375.027732</td>\n",
       "      <td>503.996306</td>\n",
       "      <td>529.241145</td>\n",
       "      <td>605.375586</td>\n",
       "    </tr>\n",
       "    <tr>\n",
       "      <th>33</th>\n",
       "      <td>51.0</td>\n",
       "      <td>NaN</td>\n",
       "      <td>413.526172</td>\n",
       "      <td>499.291630</td>\n",
       "      <td>537.949788</td>\n",
       "      <td>656.512434</td>\n",
       "    </tr>\n",
       "    <tr>\n",
       "      <th>34</th>\n",
       "      <td>52.0</td>\n",
       "      <td>NaN</td>\n",
       "      <td>462.564115</td>\n",
       "      <td>532.556507</td>\n",
       "      <td>571.656158</td>\n",
       "      <td>634.286283</td>\n",
       "    </tr>\n",
       "    <tr>\n",
       "      <th>35</th>\n",
       "      <td>53.0</td>\n",
       "      <td>NaN</td>\n",
       "      <td>443.704108</td>\n",
       "      <td>504.354344</td>\n",
       "      <td>543.389214</td>\n",
       "      <td>636.982840</td>\n",
       "    </tr>\n",
       "    <tr>\n",
       "      <th>36</th>\n",
       "      <td>54.0</td>\n",
       "      <td>NaN</td>\n",
       "      <td>463.268215</td>\n",
       "      <td>505.680663</td>\n",
       "      <td>594.545800</td>\n",
       "      <td>672.780279</td>\n",
       "    </tr>\n",
       "    <tr>\n",
       "      <th>37</th>\n",
       "      <td>55.0</td>\n",
       "      <td>NaN</td>\n",
       "      <td>461.801468</td>\n",
       "      <td>542.261275</td>\n",
       "      <td>578.039254</td>\n",
       "      <td>670.939850</td>\n",
       "    </tr>\n",
       "    <tr>\n",
       "      <th>38</th>\n",
       "      <td>56.0</td>\n",
       "      <td>NaN</td>\n",
       "      <td>447.548817</td>\n",
       "      <td>556.440970</td>\n",
       "      <td>558.609151</td>\n",
       "      <td>649.701569</td>\n",
       "    </tr>\n",
       "    <tr>\n",
       "      <th>39</th>\n",
       "      <td>57.0</td>\n",
       "      <td>NaN</td>\n",
       "      <td>366.843498</td>\n",
       "      <td>513.405513</td>\n",
       "      <td>537.197736</td>\n",
       "      <td>674.438065</td>\n",
       "    </tr>\n",
       "    <tr>\n",
       "      <th>40</th>\n",
       "      <td>58.0</td>\n",
       "      <td>NaN</td>\n",
       "      <td>614.961494</td>\n",
       "      <td>518.774058</td>\n",
       "      <td>547.550667</td>\n",
       "      <td>659.051598</td>\n",
       "    </tr>\n",
       "    <tr>\n",
       "      <th>41</th>\n",
       "      <td>59.0</td>\n",
       "      <td>NaN</td>\n",
       "      <td>NaN</td>\n",
       "      <td>550.244175</td>\n",
       "      <td>641.057121</td>\n",
       "      <td>716.085696</td>\n",
       "    </tr>\n",
       "    <tr>\n",
       "      <th>42</th>\n",
       "      <td>60.0</td>\n",
       "      <td>NaN</td>\n",
       "      <td>NaN</td>\n",
       "      <td>537.393010</td>\n",
       "      <td>682.410699</td>\n",
       "      <td>585.244731</td>\n",
       "    </tr>\n",
       "    <tr>\n",
       "      <th>43</th>\n",
       "      <td>61.0</td>\n",
       "      <td>NaN</td>\n",
       "      <td>NaN</td>\n",
       "      <td>452.564978</td>\n",
       "      <td>572.039529</td>\n",
       "      <td>665.053346</td>\n",
       "    </tr>\n",
       "    <tr>\n",
       "      <th>44</th>\n",
       "      <td>62.0</td>\n",
       "      <td>NaN</td>\n",
       "      <td>NaN</td>\n",
       "      <td>511.166845</td>\n",
       "      <td>546.064716</td>\n",
       "      <td>753.641511</td>\n",
       "    </tr>\n",
       "    <tr>\n",
       "      <th>45</th>\n",
       "      <td>63.0</td>\n",
       "      <td>NaN</td>\n",
       "      <td>NaN</td>\n",
       "      <td>458.389489</td>\n",
       "      <td>584.270601</td>\n",
       "      <td>563.064048</td>\n",
       "    </tr>\n",
       "    <tr>\n",
       "      <th>46</th>\n",
       "      <td>64.0</td>\n",
       "      <td>NaN</td>\n",
       "      <td>NaN</td>\n",
       "      <td>744.976183</td>\n",
       "      <td>721.049461</td>\n",
       "      <td>NaN</td>\n",
       "    </tr>\n",
       "    <tr>\n",
       "      <th>47</th>\n",
       "      <td>65.0</td>\n",
       "      <td>NaN</td>\n",
       "      <td>NaN</td>\n",
       "      <td>487.660095</td>\n",
       "      <td>494.586738</td>\n",
       "      <td>NaN</td>\n",
       "    </tr>\n",
       "    <tr>\n",
       "      <th>48</th>\n",
       "      <td>66.0</td>\n",
       "      <td>NaN</td>\n",
       "      <td>NaN</td>\n",
       "      <td>972.519288</td>\n",
       "      <td>NaN</td>\n",
       "      <td>NaN</td>\n",
       "    </tr>\n",
       "    <tr>\n",
       "      <th>49</th>\n",
       "      <td>67.0</td>\n",
       "      <td>NaN</td>\n",
       "      <td>NaN</td>\n",
       "      <td>692.660309</td>\n",
       "      <td>NaN</td>\n",
       "      <td>NaN</td>\n",
       "    </tr>\n",
       "  </tbody>\n",
       "</table>\n",
       "</div>"
      ],
      "text/plain": [
       "     age  position_0  position_1  position_2  position_3  position_4\n",
       "0   18.0  204.288484  279.859311  338.813532         NaN         NaN\n",
       "1   19.0  204.174923  281.090892  303.849773         NaN         NaN\n",
       "2   20.0  206.198108  282.675801  307.718527         NaN         NaN\n",
       "3   21.0  214.241101  304.186061  310.073062         NaN         NaN\n",
       "4   22.0  213.906630  307.600939  365.705272         NaN         NaN\n",
       "5   23.0  219.330908  312.634900  379.666332  353.043465         NaN\n",
       "6   24.0  222.610760  312.059399  386.845058         NaN         NaN\n",
       "7   25.0  225.799919  334.901577  367.256359         NaN         NaN\n",
       "8   26.0  233.975355  333.765839  424.999633  545.670127         NaN\n",
       "9   27.0  239.774768  327.045724  386.452650  470.471409         NaN\n",
       "10  28.0  241.130823  330.913461  381.667809  432.227026         NaN\n",
       "11  29.0  239.036653  343.737785  409.947670  409.992888         NaN\n",
       "12  30.0  221.256905  353.632424  403.050239  434.906076         NaN\n",
       "13  31.0  211.024981  359.615834  428.237097  461.171685         NaN\n",
       "14  32.0         NaN  346.850871  428.087700  478.137854         NaN\n",
       "15  33.0         NaN  347.194290  405.563635  476.798457         NaN\n",
       "16  34.0         NaN  379.531400  426.661819  506.544315         NaN\n",
       "17  35.0         NaN  370.060959  422.997345  484.399774         NaN\n",
       "18  36.0         NaN  381.740804  431.719805  496.391901         NaN\n",
       "19  37.0         NaN  370.977773  450.553531  502.789200  625.038488\n",
       "20  38.0         NaN  364.829882  451.633161  484.087885  704.978879\n",
       "21  39.0         NaN  382.413138  440.599078  483.371214  558.389657\n",
       "22  40.0         NaN  373.507547  447.866627  469.427878  502.090930\n",
       "23  41.0         NaN  410.550012  470.568486  514.423357  579.720094\n",
       "24  42.0         NaN  404.175603  485.687970  506.059090  624.523347\n",
       "25  43.0         NaN  417.860395  465.810925  528.049016  649.310998\n",
       "26  44.0         NaN  381.606450  473.021931  528.373049  602.686409\n",
       "27  45.0         NaN  414.809341  461.937420  526.584347  611.168788\n",
       "28  46.0         NaN  442.818210  478.280758  524.809903  622.943250\n",
       "29  47.0         NaN  409.866328  509.585739  543.903570  625.646483\n",
       "30  48.0         NaN  422.962107  498.825021  550.502468  651.468394\n",
       "31  49.0         NaN  438.280452  496.387948  554.080827  624.270663\n",
       "32  50.0         NaN  375.027732  503.996306  529.241145  605.375586\n",
       "33  51.0         NaN  413.526172  499.291630  537.949788  656.512434\n",
       "34  52.0         NaN  462.564115  532.556507  571.656158  634.286283\n",
       "35  53.0         NaN  443.704108  504.354344  543.389214  636.982840\n",
       "36  54.0         NaN  463.268215  505.680663  594.545800  672.780279\n",
       "37  55.0         NaN  461.801468  542.261275  578.039254  670.939850\n",
       "38  56.0         NaN  447.548817  556.440970  558.609151  649.701569\n",
       "39  57.0         NaN  366.843498  513.405513  537.197736  674.438065\n",
       "40  58.0         NaN  614.961494  518.774058  547.550667  659.051598\n",
       "41  59.0         NaN         NaN  550.244175  641.057121  716.085696\n",
       "42  60.0         NaN         NaN  537.393010  682.410699  585.244731\n",
       "43  61.0         NaN         NaN  452.564978  572.039529  665.053346\n",
       "44  62.0         NaN         NaN  511.166845  546.064716  753.641511\n",
       "45  63.0         NaN         NaN  458.389489  584.270601  563.064048\n",
       "46  64.0         NaN         NaN  744.976183  721.049461         NaN\n",
       "47  65.0         NaN         NaN  487.660095  494.586738         NaN\n",
       "48  66.0         NaN         NaN  972.519288         NaN         NaN\n",
       "49  67.0         NaN         NaN  692.660309         NaN         NaN"
      ]
     },
     "execution_count": 101,
     "metadata": {},
     "output_type": "execute_result"
    }
   ],
   "source": [
    "A = 'position' \n",
    "B = 'age'\n",
    "group_min = X[B].min()\n",
    "group_max = X[B].max()\n",
    "group_lin = np.linspace(group_min, group_max, (group_max-group_min)+1)\n",
    "\n",
    "group_df = pd.DataFrame({B:group_lin})\n",
    "\n",
    "for i in X[A].unique():\n",
    "    group_df[f'{A}_{i}'] = group_df[B]\n",
    "    \n",
    "    group_df[f'{A}_{i}'] = group_df[f'{A}_{i}'].map(\n",
    "        X.groupby([A, B])['salary'].mean()[i])\n",
    "    \n",
    "group_df.sort_index(axis=1)"
   ]
  },
  {
   "cell_type": "markdown",
   "metadata": {},
   "source": [
    "## 66歳以上は削除"
   ]
  },
  {
   "cell_type": "code",
   "execution_count": 102,
   "metadata": {},
   "outputs": [
    {
     "data": {
      "image/png": "[encoded data removed]",
      "text/plain": [
       "<Figure size 432x288 with 1 Axes>"
      ]
     },
     "metadata": {
      "needs_background": "light"
     },
     "output_type": "display_data"
    }
   ],
   "source": [
    "for i in group_df.columns:\n",
    "    if i == 'age':\n",
    "        pass\n",
    "    else:\n",
    "        plt.plot(group_df['age'], group_df[i])\n",
    "plt.show()"
   ]
  },
  {
   "cell_type": "markdown",
   "metadata": {},
   "source": [
    "## grouping"
   ]
  },
  {
   "cell_type": "code",
   "execution_count": 115,
   "metadata": {},
   "outputs": [],
   "source": [
    "X['position_age'] = 0\n",
    "X['position_age'][(X['age'] >=18) & (X['age'] <=25)] = 0\n",
    "X['position_age'][(X['age'] >=26) & (X['age'] <=31)] = 1\n",
    "X['position_age'][(X['age'] >=32) & (X['age'] <=36)] = 2\n",
    "X['position_age'][(X['age'] >=37)& (X['age'] <=58)] = 3\n",
    "X['position_age'][(X['age'] >=59)] = 4"
   ]
  },
  {
   "cell_type": "code",
   "execution_count": null,
   "metadata": {},
   "outputs": [],
   "source": []
  }
 ],
 "metadata": {
  "kernelspec": {
   "display_name": "Python 3",
   "language": "python",
   "name": "python3"
  },
  "language_info": {
   "codemirror_mode": {
    "name": "ipython",
    "version": 3
   },
   "file_extension": ".py",
   "mimetype": "text/x-python",
   "name": "python",
   "nbconvert_exporter": "python",
   "pygments_lexer": "ipython3",
   "version": "3.7.5"
  }
 },
 "nbformat": 4,
 "nbformat_minor": 2
}
