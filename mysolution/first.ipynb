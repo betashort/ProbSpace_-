{
 "cells": [
  {
   "cell_type": "code",
   "execution_count": 322,
   "metadata": {},
   "outputs": [],
   "source": [
    "import os\n",
    "import platform \n",
    "import gc\n",
    "\n",
    "import re\n",
    "import numpy as np\n",
    "import pandas as pd\n",
    "\n",
    "pd.options.display.max_columns = None\n",
    "pd.options.display.max_rows = None\n",
    "\n",
    "\n",
    "import matplotlib.pyplot as plt\n",
    "%matplotlib inline\n",
    "\n",
    "import seaborn as sns\n",
    "\n",
    "from sklearn.preprocessing import LabelEncoder\n",
    "from sklearn.model_selection import KFold, StratifiedKFold\n",
    "from sklearn.metrics import mean_squared_error, mean_absolute_error\n",
    "\n",
    "import lightgbm as lgb\n",
    "\n",
    "import warnings \n",
    "warnings.filterwarnings('ignore')"
   ]
  },
  {
   "cell_type": "code",
   "execution_count": 323,
   "metadata": {},
   "outputs": [
    {
     "name": "stdout",
     "output_type": "stream",
     "text": [
      "Darwin\n"
     ]
    }
   ],
   "source": [
    "print(platform.system())\n",
    "if platform.system() == 'Darwin':\n",
    "    path = \"/Users/betashort/Google Drive/Prediction_Salary/\"\n",
    "elif platform.system() == 'Windows':\n",
    "    path = \"C://Users/ail11208/Google ドライブ/SIGNATE_mynavi2019/\""
   ]
  },
  {
   "cell_type": "markdown",
   "metadata": {},
   "source": [
    "# input"
   ]
  },
  {
   "cell_type": "code",
   "execution_count": 324,
   "metadata": {},
   "outputs": [],
   "source": [
    "X = pd.read_csv('input/train_data.csv')\n",
    "X_test = pd.read_csv('input/test_data.csv')\n",
    "test_id = X_test['id']"
   ]
  },
  {
   "cell_type": "code",
   "execution_count": 325,
   "metadata": {},
   "outputs": [],
   "source": [
    "y = X['salary']\n",
    "X = X.drop(['salary', 'id'], axis=1)\n",
    "X_test = X_test.drop(['id'], axis=1)"
   ]
  },
  {
   "cell_type": "markdown",
   "metadata": {},
   "source": [
    "# preprocessing"
   ]
  },
  {
   "cell_type": "markdown",
   "metadata": {},
   "source": [
    "## 66歳以上を削除"
   ]
  },
  {
   "cell_type": "code",
   "execution_count": 326,
   "metadata": {},
   "outputs": [],
   "source": [
    "drop_rows = X[X['age'] >= 66].index.tolist()\n",
    "X = X.drop(drop_rows)\n",
    "y = y.drop(drop_rows)"
   ]
  },
  {
   "cell_type": "code",
   "execution_count": null,
   "metadata": {},
   "outputs": [],
   "source": []
  },
  {
   "cell_type": "markdown",
   "metadata": {},
   "source": [
    "# Feature Engineering"
   ]
  },
  {
   "cell_type": "code",
   "execution_count": 327,
   "metadata": {},
   "outputs": [],
   "source": [
    "def create_feature(df):\n",
    "    #position-age\n",
    "    df['MA'] = df['age'].apply(lambda x: 1 if (x >= 26) else 0)\n",
    "    df['GM'] =  df['age'].apply(lambda x: 1 if (x >= 31) else 0)\n",
    "    df['not_noname'] = df['age'].apply(lambda x: 1 if (x <= 31) else 0)\n",
    "    \n",
    "    df['position_age'] = 0\n",
    "    df['position_age'][(df['age'] >=18) & (df['age'] <=25)] = 0\n",
    "    df['position_age'][(df['age'] >=26) & (df['age'] <=31)] = 1\n",
    "    df['position_age'][(df['age'] >=32) & (df['age'] <=36)] = 2\n",
    "    df['position_age'][(df['age'] >=37)& (df['age'] <=58)] = 3\n",
    "    df['position_age'][(df['age'] >=59)] = 4\n",
    "    return df"
   ]
  },
  {
   "cell_type": "code",
   "execution_count": 328,
   "metadata": {},
   "outputs": [],
   "source": [
    "X = create_feature(X)\n",
    "X_test = create_feature(X_test)"
   ]
  },
  {
   "cell_type": "markdown",
   "metadata": {},
   "source": [
    "# Labeling"
   ]
  },
  {
   "cell_type": "code",
   "execution_count": 329,
   "metadata": {},
   "outputs": [],
   "source": [
    "def labeling(X, X_test, y):\n",
    "    col_category = []\n",
    "    for i in X.columns:\n",
    "        if X[i].dtype == 'object':\n",
    "            \n",
    "            # ======== ラベルエンコーディング ==========\n",
    "            le = LabelEncoder()\n",
    "            X[f'{i}_label'] = le.fit_transform(X[i])\n",
    "            X_test[f'{i}_label'] = le.transform(X_test[i])\n",
    "            \n",
    "            col_category.append(f'{i}_label')\n",
    "            \n",
    "            \n",
    "            # ========= ランキング ==============\n",
    "            maps = pd.concat([X, np.exp(y)], axis=1).groupby(i)['salary'].mean().sort_values(ascending=False).index\n",
    "            maps = pd.DataFrame({i: maps, 'rank': np.linspace(0, maps.shape[0]-1, maps.shape[0])})\n",
    "            maps = dict(maps.to_dict(orient='split')['data'])\n",
    "            X[f'{i}_rank'] = X[i].map(maps)\n",
    "            X_test[f'{i}_rank'] = X_test[i].map(maps)\n",
    "            \n",
    "            col_category.append(f'{i}_rank')\n",
    "            \n",
    "            '''\n",
    "            # ===== targeting =======\n",
    "            data_tmp = pd.DataFrame({i:X[i], 'target':y})\n",
    "            target_mean = data_tmp.groupby(i)['target'].mean()\n",
    "            \n",
    "            X_test[f'{i}_target'] = X_test[i].map(target_mean)\n",
    "            #X_test[f'{c}_target_log'] = np.log(X_test[c].map(target_mean))\n",
    "            \n",
    "            tmp = np.repeat(np.nan, X.shape[0])\n",
    "            \n",
    "            kf = KFold(n_splits=4, shuffle=True, random_state=72)\n",
    "            \n",
    "            for idx_1, idx_2 in kf.split(X):\n",
    "                target_mean = data_tmp.iloc[idx_1].groupby(i)['target'].mean()\n",
    "                tmp[idx_2] = X[i].iloc[idx_2].map(target_mean)\n",
    "                X[f'{i}_target'] = tmp\n",
    "                #X[f'{c}_target_log'] = np.log(tmp)\n",
    "            \n",
    "            col_category.append(f'{i}_target')\n",
    "            #new_col_category.append(f'{c}_target_log')\n",
    "            '''\n",
    "            # ===== 元のラベルの削除 =====\n",
    "            X = X.drop(i, axis=1)\n",
    "            X_test = X_test.drop(i, axis=1)\n",
    "            \n",
    "    return X, X_test, col_category"
   ]
  },
  {
   "cell_type": "code",
   "execution_count": 330,
   "metadata": {},
   "outputs": [],
   "source": [
    "X, X_test, col_category = labeling(X, X_test, y)"
   ]
  },
  {
   "cell_type": "code",
   "execution_count": 331,
   "metadata": {},
   "outputs": [
    {
     "name": "stdout",
     "output_type": "stream",
     "text": [
      "X.shape (20997, 16) \n",
      "X_test.shape (9000, 16)\n"
     ]
    }
   ],
   "source": [
    "print('X.shape', X.shape,\n",
    "      '\\nX_test.shape', X_test.shape,\n",
    "     )"
   ]
  },
  {
   "cell_type": "code",
   "execution_count": 332,
   "metadata": {},
   "outputs": [],
   "source": [
    "y = np.log(y)"
   ]
  },
  {
   "cell_type": "markdown",
   "metadata": {},
   "source": [
    "# LightGBM"
   ]
  },
  {
   "cell_type": "code",
   "execution_count": 360,
   "metadata": {},
   "outputs": [],
   "source": [
    "params = {\n",
    "    'objective': 'fair',\n",
    "    'metric': 'fair',\n",
    "    'learning_rate': 0.01,\n",
    "    'max_depth': -1,\n",
    "    'num_leaves': 255,\n",
    "    'max_bin': 255,\n",
    "    'colsample_bytree': 0.8,\n",
    "    'subsample': 0.8,\n",
    "    'nthread': -1,\n",
    "    'bagging_freq': 1,\n",
    "    'verbose': -1,\n",
    "    'seed': 1,\n",
    "}"
   ]
  },
  {
   "cell_type": "code",
   "execution_count": 361,
   "metadata": {},
   "outputs": [],
   "source": [
    "def lightgbms(X, X_test, y, params, random=0):\n",
    "    \n",
    "    NFOLDS = 5\n",
    "    \n",
    "    folds = KFold(n_splits=NFOLDS, random_state=random, shuffle=True)\n",
    "\n",
    "    preds = pd.DataFrame()\n",
    "    train_preds = pd.DataFrame()\n",
    "\n",
    "    columns = X.columns\n",
    "    splits = folds.split(X, y)\n",
    "\n",
    "    y_preds = np.zeros(X_test.shape[0])\n",
    "    y_oof = np.zeros(X.shape[0])\n",
    "\n",
    "    score = 0\n",
    "    scores = []\n",
    "\n",
    "    feature_importances = pd.DataFrame()\n",
    "    feature_importances['feature'] = columns\n",
    "\n",
    "    for fold_n, (train_index, val_index) in enumerate(splits):\n",
    "        # split train, Valid\n",
    "        X_train, X_val = X[columns].iloc[train_index], X[columns].iloc[val_index]\n",
    "        y_train, y_val = y.iloc[train_index], y.iloc[val_index]\n",
    "\n",
    "        '''\n",
    "        LightGBM\n",
    "        '''\n",
    "        dtrain = lgb.Dataset(X_train, y_train)\n",
    "        dval = lgb.Dataset(X_val, y_val)\n",
    "\n",
    "        clf = lgb.train(params,\n",
    "                        dtrain,\n",
    "                        5000,\n",
    "                        valid_sets=[dtrain, dval],\n",
    "                        verbose_eval=1000,\n",
    "                        categorical_feature=col_category,\n",
    "                        early_stopping_rounds=500)\n",
    "        \n",
    "        \n",
    "        feature_importances[f'fold_{fold_n + 1}'] = clf.feature_importance()\n",
    "        \n",
    "        '''\n",
    "        LightGBM\n",
    "        '''\n",
    "        # stack\n",
    "        y_pred_val = clf.predict(X_val)\n",
    "        y_oof[val_index] = y_pred_val\n",
    "    \n",
    "            \n",
    "        print(f\"Fold {fold_n + 1} | rmse: {mean_absolute_error(np.exp(y_val),np.exp( y_pred_val))}\")\n",
    "        \n",
    "        score += mean_absolute_error(np.exp(y_val),np.exp( y_pred_val)) / NFOLDS\n",
    "        scores.append(mean_absolute_error(np.exp(y_val),np.exp( y_pred_val)))\n",
    "\n",
    "        y_preds += clf.predict(X_test) / NFOLDS\n",
    "\n",
    "        train_preds[f\"Fold {fold_n + 1}\"] = clf.predict(X)\n",
    "\n",
    "        preds[f\"Fold {fold_n + 1}\"] = clf.predict(X_test)\n",
    "\n",
    "        del X_train, X_val, y_train, y_val\n",
    "        gc.collect()\n",
    "    print(f\"\\nMean RSME = {score}\")\n",
    "\n",
    "    return y_oof, y_preds, scores, feature_importances\n",
    "\n"
   ]
  },
  {
   "cell_type": "code",
   "execution_count": 362,
   "metadata": {
    "scrolled": true
   },
   "outputs": [
    {
     "name": "stdout",
     "output_type": "stream",
     "text": [
      "Training until validation scores don't improve for 500 rounds.\n",
      "[1000]\ttraining's fair: 0.00111918\tvalid_1's fair: 0.00370279\n",
      "Early stopping, best iteration is:\n",
      "[750]\ttraining's fair: 0.00142627\tvalid_1's fair: 0.00368361\n",
      "Fold 1 | rmse: 23.472016622648788\n",
      "Training until validation scores don't improve for 500 rounds.\n",
      "[1000]\ttraining's fair: 0.00111414\tvalid_1's fair: 0.00366384\n",
      "Early stopping, best iteration is:\n",
      "[637]\ttraining's fair: 0.00160023\tvalid_1's fair: 0.00364468\n",
      "Fold 2 | rmse: 23.165324047769627\n",
      "Training until validation scores don't improve for 500 rounds.\n",
      "[1000]\ttraining's fair: 0.00111456\tvalid_1's fair: 0.00371575\n",
      "Early stopping, best iteration is:\n",
      "[674]\ttraining's fair: 0.00154009\tvalid_1's fair: 0.00368206\n",
      "Fold 3 | rmse: 22.680164421878533\n",
      "Training until validation scores don't improve for 500 rounds.\n",
      "[1000]\ttraining's fair: 0.0011301\tvalid_1's fair: 0.00350883\n",
      "Early stopping, best iteration is:\n",
      "[796]\ttraining's fair: 0.00137396\tvalid_1's fair: 0.00349896\n",
      "Fold 4 | rmse: 22.539888496704734\n",
      "Training until validation scores don't improve for 500 rounds.\n",
      "[1000]\ttraining's fair: 0.00113018\tvalid_1's fair: 0.00357914\n",
      "Early stopping, best iteration is:\n",
      "[673]\ttraining's fair: 0.00155967\tvalid_1's fair: 0.00355646\n",
      "Fold 5 | rmse: 23.25500612149505\n",
      "\n",
      "Mean RSME = 23.022479942099345\n",
      "Training until validation scores don't improve for 500 rounds.\n",
      "[1000]\ttraining's fair: 0.0011183\tvalid_1's fair: 0.00370926\n",
      "Early stopping, best iteration is:\n",
      "[792]\ttraining's fair: 0.00136696\tvalid_1's fair: 0.0036957\n",
      "Fold 1 | rmse: 22.9306863901148\n",
      "Training until validation scores don't improve for 500 rounds.\n",
      "[1000]\ttraining's fair: 0.00112683\tvalid_1's fair: 0.00360324\n",
      "Early stopping, best iteration is:\n",
      "[699]\ttraining's fair: 0.00151297\tvalid_1's fair: 0.00358164\n",
      "Fold 2 | rmse: 22.715295888833236\n",
      "Training until validation scores don't improve for 500 rounds.\n",
      "[1000]\ttraining's fair: 0.00109931\tvalid_1's fair: 0.00379529\n",
      "Early stopping, best iteration is:\n",
      "[704]\ttraining's fair: 0.00147064\tvalid_1's fair: 0.00377584\n",
      "Fold 3 | rmse: 23.47512083004949\n",
      "Training until validation scores don't improve for 500 rounds.\n",
      "[1000]\ttraining's fair: 0.00114562\tvalid_1's fair: 0.00339596\n",
      "Early stopping, best iteration is:\n",
      "[778]\ttraining's fair: 0.00141593\tvalid_1's fair: 0.0033826\n",
      "Fold 4 | rmse: 22.58424195559639\n",
      "Training until validation scores don't improve for 500 rounds.\n",
      "[1000]\ttraining's fair: 0.00111819\tvalid_1's fair: 0.00364765\n",
      "Early stopping, best iteration is:\n",
      "[691]\ttraining's fair: 0.00151462\tvalid_1's fair: 0.00363172\n",
      "Fold 5 | rmse: 23.166749528880917\n",
      "\n",
      "Mean RSME = 22.974418918694965\n",
      "Training until validation scores don't improve for 500 rounds.\n",
      "[1000]\ttraining's fair: 0.00112747\tvalid_1's fair: 0.00363294\n",
      "Early stopping, best iteration is:\n",
      "[711]\ttraining's fair: 0.00149631\tvalid_1's fair: 0.00361481\n",
      "Fold 1 | rmse: 22.787498309230376\n",
      "Training until validation scores don't improve for 500 rounds.\n",
      "[1000]\ttraining's fair: 0.00111688\tvalid_1's fair: 0.00366423\n",
      "Early stopping, best iteration is:\n",
      "[644]\ttraining's fair: 0.00159146\tvalid_1's fair: 0.00364556\n",
      "Fold 2 | rmse: 22.94130027061448\n",
      "Training until validation scores don't improve for 500 rounds.\n",
      "[1000]\ttraining's fair: 0.001119\tvalid_1's fair: 0.00363923\n",
      "Early stopping, best iteration is:\n",
      "[671]\ttraining's fair: 0.00155158\tvalid_1's fair: 0.00362062\n",
      "Fold 3 | rmse: 22.764648781150417\n",
      "Training until validation scores don't improve for 500 rounds.\n",
      "[1000]\ttraining's fair: 0.00110946\tvalid_1's fair: 0.00362919\n",
      "Early stopping, best iteration is:\n",
      "[691]\ttraining's fair: 0.00150589\tvalid_1's fair: 0.00360572\n",
      "Fold 4 | rmse: 23.21853551332541\n",
      "Training until validation scores don't improve for 500 rounds.\n",
      "[1000]\ttraining's fair: 0.00112382\tvalid_1's fair: 0.00359084\n",
      "Early stopping, best iteration is:\n",
      "[786]\ttraining's fair: 0.00138041\tvalid_1's fair: 0.00357618\n",
      "Fold 5 | rmse: 23.215072808025496\n",
      "\n",
      "Mean RSME = 22.985411136469235\n",
      "Training until validation scores don't improve for 500 rounds.\n",
      "[1000]\ttraining's fair: 0.00112412\tvalid_1's fair: 0.00358987\n",
      "Early stopping, best iteration is:\n",
      "[650]\ttraining's fair: 0.0015957\tvalid_1's fair: 0.00356067\n",
      "Fold 1 | rmse: 22.843031446910803\n",
      "Training until validation scores don't improve for 500 rounds.\n",
      "[1000]\ttraining's fair: 0.00112857\tvalid_1's fair: 0.00349451\n",
      "Early stopping, best iteration is:\n",
      "[662]\ttraining's fair: 0.00157515\tvalid_1's fair: 0.00347984\n",
      "Fold 2 | rmse: 22.828297964852766\n",
      "Training until validation scores don't improve for 500 rounds.\n",
      "[1000]\ttraining's fair: 0.00109991\tvalid_1's fair: 0.00384358\n",
      "Early stopping, best iteration is:\n",
      "[672]\ttraining's fair: 0.00152556\tvalid_1's fair: 0.00382264\n",
      "Fold 3 | rmse: 23.561632139334556\n",
      "Training until validation scores don't improve for 500 rounds.\n",
      "[1000]\ttraining's fair: 0.00111416\tvalid_1's fair: 0.00378572\n",
      "Early stopping, best iteration is:\n",
      "[751]\ttraining's fair: 0.00141961\tvalid_1's fair: 0.00376761\n",
      "Fold 4 | rmse: 23.479647603817103\n",
      "Training until validation scores don't improve for 500 rounds.\n",
      "[1000]\ttraining's fair: 0.0011346\tvalid_1's fair: 0.00353421\n",
      "Early stopping, best iteration is:\n",
      "[804]\ttraining's fair: 0.00136723\tvalid_1's fair: 0.00352428\n",
      "Fold 5 | rmse: 22.459952577553587\n",
      "\n",
      "Mean RSME = 23.034512346493763\n",
      "Training until validation scores don't improve for 500 rounds.\n",
      "[1000]\ttraining's fair: 0.00111138\tvalid_1's fair: 0.00368697\n",
      "Early stopping, best iteration is:\n",
      "[593]\ttraining's fair: 0.00167908\tvalid_1's fair: 0.00365831\n",
      "Fold 1 | rmse: 23.260818137684264\n",
      "Training until validation scores don't improve for 500 rounds.\n",
      "[1000]\ttraining's fair: 0.00112414\tvalid_1's fair: 0.00367352\n",
      "Early stopping, best iteration is:\n",
      "[677]\ttraining's fair: 0.00154554\tvalid_1's fair: 0.00365628\n",
      "Fold 2 | rmse: 23.07387832135174\n",
      "Training until validation scores don't improve for 500 rounds.\n",
      "[1000]\ttraining's fair: 0.0011362\tvalid_1's fair: 0.00351046\n",
      "Early stopping, best iteration is:\n",
      "[677]\ttraining's fair: 0.00155912\tvalid_1's fair: 0.00349539\n",
      "Fold 3 | rmse: 22.402456795670087\n",
      "Training until validation scores don't improve for 500 rounds.\n",
      "[1000]\ttraining's fair: 0.00113424\tvalid_1's fair: 0.0035706\n",
      "Early stopping, best iteration is:\n",
      "[749]\ttraining's fair: 0.00144513\tvalid_1's fair: 0.00355345\n",
      "Fold 4 | rmse: 22.673021648162635\n",
      "Training until validation scores don't improve for 500 rounds.\n",
      "[1000]\ttraining's fair: 0.00110434\tvalid_1's fair: 0.00380912\n",
      "Early stopping, best iteration is:\n",
      "[752]\ttraining's fair: 0.00140516\tvalid_1's fair: 0.00378598\n",
      "Fold 5 | rmse: 23.626703946366554\n",
      "\n",
      "Mean RSME = 23.00737576984706\n",
      "CPU times: user 16min 9s, sys: 5.32 s, total: 16min 14s\n",
      "Wall time: 4min 23s\n"
     ]
    }
   ],
   "source": [
    "%%time\n",
    "## === Seed ===\n",
    "_, y_preds1, _, feature_importances = lightgbms(X, X_test, y, params, 1)\n",
    "_, y_preds2, _, _ = lightgbms(X, X_test, y, params, 2)\n",
    "_, y_preds3, _, _ = lightgbms(X, X_test, y, params, 3)\n",
    "_, y_preds4, _, _ = lightgbms(X, X_test, y, params, 4)\n",
    "_, y_preds5, _, _ = lightgbms(X, X_test, y, params, 5)"
   ]
  },
  {
   "cell_type": "code",
   "execution_count": 373,
   "metadata": {},
   "outputs": [],
   "source": [
    "pred_list = [y_preds1,\n",
    "             y_preds2,\n",
    "             y_preds3,\n",
    "             y_preds4,\n",
    "             y_preds5]\n",
    "pred = np.zeros(X_test.shape[0])\n",
    "for i in pred_list:\n",
    "    pred += np.exp(i).astype(int) / 5\n",
    "    \n",
    "pred = pred.astype(int)"
   ]
  },
  {
   "cell_type": "code",
   "execution_count": 374,
   "metadata": {},
   "outputs": [
    {
     "data": {
      "image/png": "[encoded data removed]",
      "text/plain": [
       "<Figure size 1152x1152 with 1 Axes>"
      ]
     },
     "metadata": {
      "needs_background": "light"
     },
     "output_type": "display_data"
    }
   ],
   "source": [
    "feature_importances['average'] = feature_importances[[f'fold_{fold_n + 1}' for fold_n in range(5)]].mean(axis=1)\n",
    "\n",
    "plt.figure(figsize=(16, 16))\n",
    "sns.barplot(data=feature_importances.sort_values(by='average', ascending=False).head(20), x='average', y='feature');\n",
    "plt.title('250 TOP feature importance over {} folds average'.format(10))\n",
    "#plt.savefig('TOP250_feature_importance.png')\n",
    "plt.show()"
   ]
  },
  {
   "cell_type": "code",
   "execution_count": 375,
   "metadata": {},
   "outputs": [],
   "source": [
    "sub = pd.DataFrame({'id': test_id, 'y': pred})"
   ]
  },
  {
   "cell_type": "code",
   "execution_count": 376,
   "metadata": {},
   "outputs": [
    {
     "data": {
      "text/html": [
       "<div>\n",
       "<style scoped>\n",
       "    .dataframe tbody tr th:only-of-type {\n",
       "        vertical-align: middle;\n",
       "    }\n",
       "\n",
       "    .dataframe tbody tr th {\n",
       "        vertical-align: top;\n",
       "    }\n",
       "\n",
       "    .dataframe thead th {\n",
       "        text-align: right;\n",
       "    }\n",
       "</style>\n",
       "<table border=\"1\" class=\"dataframe\">\n",
       "  <thead>\n",
       "    <tr style=\"text-align: right;\">\n",
       "      <th></th>\n",
       "      <th>id</th>\n",
       "      <th>y</th>\n",
       "    </tr>\n",
       "  </thead>\n",
       "  <tbody>\n",
       "    <tr>\n",
       "      <th>0</th>\n",
       "      <td>0</td>\n",
       "      <td>517</td>\n",
       "    </tr>\n",
       "    <tr>\n",
       "      <th>1</th>\n",
       "      <td>1</td>\n",
       "      <td>281</td>\n",
       "    </tr>\n",
       "    <tr>\n",
       "      <th>2</th>\n",
       "      <td>2</td>\n",
       "      <td>208</td>\n",
       "    </tr>\n",
       "    <tr>\n",
       "      <th>3</th>\n",
       "      <td>3</td>\n",
       "      <td>160</td>\n",
       "    </tr>\n",
       "    <tr>\n",
       "      <th>4</th>\n",
       "      <td>4</td>\n",
       "      <td>288</td>\n",
       "    </tr>\n",
       "  </tbody>\n",
       "</table>\n",
       "</div>"
      ],
      "text/plain": [
       "   id    y\n",
       "0   0  517\n",
       "1   1  281\n",
       "2   2  208\n",
       "3   3  160\n",
       "4   4  288"
      ]
     },
     "execution_count": 376,
     "metadata": {},
     "output_type": "execute_result"
    }
   ],
   "source": [
    "sub.head()"
   ]
  },
  {
   "cell_type": "code",
   "execution_count": 377,
   "metadata": {},
   "outputs": [],
   "source": [
    "sub.to_csv('sub_lgb.csv', index=None)"
   ]
  },
  {
   "cell_type": "code",
   "execution_count": null,
   "metadata": {},
   "outputs": [],
   "source": []
  }
 ],
 "metadata": {
  "kernelspec": {
   "display_name": "Python 3",
   "language": "python",
   "name": "python3"
  },
  "language_info": {
   "codemirror_mode": {
    "name": "ipython",
    "version": 3
   },
   "file_extension": ".py",
   "mimetype": "text/x-python",
   "name": "python",
   "nbconvert_exporter": "python",
   "pygments_lexer": "ipython3",
   "version": "3.7.5"
  }
 },
 "nbformat": 4,
 "nbformat_minor": 2
}
